{
 "cells": [
  {
   "cell_type": "markdown",
   "metadata": {},
   "source": [
    "# Исследование надёжности заёмщиков\n",
    "\n",
    "Заказчик — кредитный отдел банка. Нужно разобраться, влияет ли семейное положение и количество детей клиента на факт погашения кредита в срок. Входные данные от банка — статистика о платёжеспособности клиентов. Нас интересуют такие вопросы:\n",
    "* Есть ли зависимость между наличием детей и возвратом кредита в срок?\n",
    "* Есть ли зависимость между семейным положением и возвратом кредита в срок?\n",
    "* Есть ли зависимость между уровнем дохода и возвратом кредита в срок?\n",
    "* Как разные цели кредита влияют на его возврат в срок?\n",
    "\n",
    "Результаты исследования будут учтены при построении модели **кредитного скоринга** — специальной системы, которая оценивает способность потенциального заёмщика вернуть кредит банку."
   ]
  },
  {
   "cell_type": "markdown",
   "metadata": {},
   "source": [
    "## Шаг 1. Откройте файл с данными и изучите общую информацию"
   ]
  },
  {
   "cell_type": "markdown",
   "metadata": {},
   "source": [
    "В самом начале импортируем необходимые библиотеки."
   ]
  },
  {
   "cell_type": "code",
   "execution_count": 1,
   "metadata": {},
   "outputs": [],
   "source": [
    "# импорт библиотеки pandas\n",
    "import pandas as pd\n",
    "# импорт метода Display\n",
    "from IPython.display import display\n",
    "# импорт библиотеки pymystem3 для лемматизации\n",
    "from pymystem3 import Mystem\n",
    "m = Mystem()\n",
    "# вызов контейнера Counter\n",
    "from collections import Counter"
   ]
  },
  {
   "cell_type": "markdown",
   "metadata": {},
   "source": [
    "Прочитаем файл с данными и сохраним его в переменной `df`."
   ]
  },
  {
   "cell_type": "code",
   "execution_count": 2,
   "metadata": {},
   "outputs": [],
   "source": [
    "# чтение файла с данными и сохранение в df\n",
    "df = pd.read_csv('data.csv')"
   ]
  },
  {
   "cell_type": "markdown",
   "metadata": {},
   "source": [
    "Посмотрим, какие данные у нас имеются."
   ]
  },
  {
   "cell_type": "code",
   "execution_count": 3,
   "metadata": {},
   "outputs": [
    {
     "data": {
      "text/html": [
       "<div>\n",
       "<style scoped>\n",
       "    .dataframe tbody tr th:only-of-type {\n",
       "        vertical-align: middle;\n",
       "    }\n",
       "\n",
       "    .dataframe tbody tr th {\n",
       "        vertical-align: top;\n",
       "    }\n",
       "\n",
       "    .dataframe thead th {\n",
       "        text-align: right;\n",
       "    }\n",
       "</style>\n",
       "<table border=\"1\" class=\"dataframe\">\n",
       "  <thead>\n",
       "    <tr style=\"text-align: right;\">\n",
       "      <th></th>\n",
       "      <th>children</th>\n",
       "      <th>days_employed</th>\n",
       "      <th>dob_years</th>\n",
       "      <th>education</th>\n",
       "      <th>education_id</th>\n",
       "      <th>family_status</th>\n",
       "      <th>family_status_id</th>\n",
       "      <th>gender</th>\n",
       "      <th>income_type</th>\n",
       "      <th>debt</th>\n",
       "      <th>total_income</th>\n",
       "      <th>purpose</th>\n",
       "    </tr>\n",
       "  </thead>\n",
       "  <tbody>\n",
       "    <tr>\n",
       "      <td>0</td>\n",
       "      <td>1</td>\n",
       "      <td>-8437.673028</td>\n",
       "      <td>42</td>\n",
       "      <td>высшее</td>\n",
       "      <td>0</td>\n",
       "      <td>женат / замужем</td>\n",
       "      <td>0</td>\n",
       "      <td>F</td>\n",
       "      <td>сотрудник</td>\n",
       "      <td>0</td>\n",
       "      <td>253875.639453</td>\n",
       "      <td>покупка жилья</td>\n",
       "    </tr>\n",
       "    <tr>\n",
       "      <td>1</td>\n",
       "      <td>1</td>\n",
       "      <td>-4024.803754</td>\n",
       "      <td>36</td>\n",
       "      <td>среднее</td>\n",
       "      <td>1</td>\n",
       "      <td>женат / замужем</td>\n",
       "      <td>0</td>\n",
       "      <td>F</td>\n",
       "      <td>сотрудник</td>\n",
       "      <td>0</td>\n",
       "      <td>112080.014102</td>\n",
       "      <td>приобретение автомобиля</td>\n",
       "    </tr>\n",
       "    <tr>\n",
       "      <td>2</td>\n",
       "      <td>0</td>\n",
       "      <td>-5623.422610</td>\n",
       "      <td>33</td>\n",
       "      <td>Среднее</td>\n",
       "      <td>1</td>\n",
       "      <td>женат / замужем</td>\n",
       "      <td>0</td>\n",
       "      <td>M</td>\n",
       "      <td>сотрудник</td>\n",
       "      <td>0</td>\n",
       "      <td>145885.952297</td>\n",
       "      <td>покупка жилья</td>\n",
       "    </tr>\n",
       "    <tr>\n",
       "      <td>3</td>\n",
       "      <td>3</td>\n",
       "      <td>-4124.747207</td>\n",
       "      <td>32</td>\n",
       "      <td>среднее</td>\n",
       "      <td>1</td>\n",
       "      <td>женат / замужем</td>\n",
       "      <td>0</td>\n",
       "      <td>M</td>\n",
       "      <td>сотрудник</td>\n",
       "      <td>0</td>\n",
       "      <td>267628.550329</td>\n",
       "      <td>дополнительное образование</td>\n",
       "    </tr>\n",
       "    <tr>\n",
       "      <td>4</td>\n",
       "      <td>0</td>\n",
       "      <td>340266.072047</td>\n",
       "      <td>53</td>\n",
       "      <td>среднее</td>\n",
       "      <td>1</td>\n",
       "      <td>гражданский брак</td>\n",
       "      <td>1</td>\n",
       "      <td>F</td>\n",
       "      <td>пенсионер</td>\n",
       "      <td>0</td>\n",
       "      <td>158616.077870</td>\n",
       "      <td>сыграть свадьбу</td>\n",
       "    </tr>\n",
       "    <tr>\n",
       "      <td>5</td>\n",
       "      <td>0</td>\n",
       "      <td>-926.185831</td>\n",
       "      <td>27</td>\n",
       "      <td>высшее</td>\n",
       "      <td>0</td>\n",
       "      <td>гражданский брак</td>\n",
       "      <td>1</td>\n",
       "      <td>M</td>\n",
       "      <td>компаньон</td>\n",
       "      <td>0</td>\n",
       "      <td>255763.565419</td>\n",
       "      <td>покупка жилья</td>\n",
       "    </tr>\n",
       "    <tr>\n",
       "      <td>6</td>\n",
       "      <td>0</td>\n",
       "      <td>-2879.202052</td>\n",
       "      <td>43</td>\n",
       "      <td>высшее</td>\n",
       "      <td>0</td>\n",
       "      <td>женат / замужем</td>\n",
       "      <td>0</td>\n",
       "      <td>F</td>\n",
       "      <td>компаньон</td>\n",
       "      <td>0</td>\n",
       "      <td>240525.971920</td>\n",
       "      <td>операции с жильем</td>\n",
       "    </tr>\n",
       "    <tr>\n",
       "      <td>7</td>\n",
       "      <td>0</td>\n",
       "      <td>-152.779569</td>\n",
       "      <td>50</td>\n",
       "      <td>СРЕДНЕЕ</td>\n",
       "      <td>1</td>\n",
       "      <td>женат / замужем</td>\n",
       "      <td>0</td>\n",
       "      <td>M</td>\n",
       "      <td>сотрудник</td>\n",
       "      <td>0</td>\n",
       "      <td>135823.934197</td>\n",
       "      <td>образование</td>\n",
       "    </tr>\n",
       "    <tr>\n",
       "      <td>8</td>\n",
       "      <td>2</td>\n",
       "      <td>-6929.865299</td>\n",
       "      <td>35</td>\n",
       "      <td>ВЫСШЕЕ</td>\n",
       "      <td>0</td>\n",
       "      <td>гражданский брак</td>\n",
       "      <td>1</td>\n",
       "      <td>F</td>\n",
       "      <td>сотрудник</td>\n",
       "      <td>0</td>\n",
       "      <td>95856.832424</td>\n",
       "      <td>на проведение свадьбы</td>\n",
       "    </tr>\n",
       "    <tr>\n",
       "      <td>9</td>\n",
       "      <td>0</td>\n",
       "      <td>-2188.756445</td>\n",
       "      <td>41</td>\n",
       "      <td>среднее</td>\n",
       "      <td>1</td>\n",
       "      <td>женат / замужем</td>\n",
       "      <td>0</td>\n",
       "      <td>M</td>\n",
       "      <td>сотрудник</td>\n",
       "      <td>0</td>\n",
       "      <td>144425.938277</td>\n",
       "      <td>покупка жилья для семьи</td>\n",
       "    </tr>\n",
       "  </tbody>\n",
       "</table>\n",
       "</div>"
      ],
      "text/plain": [
       "   children  days_employed  dob_years education  education_id  \\\n",
       "0         1   -8437.673028         42    высшее             0   \n",
       "1         1   -4024.803754         36   среднее             1   \n",
       "2         0   -5623.422610         33   Среднее             1   \n",
       "3         3   -4124.747207         32   среднее             1   \n",
       "4         0  340266.072047         53   среднее             1   \n",
       "5         0    -926.185831         27    высшее             0   \n",
       "6         0   -2879.202052         43    высшее             0   \n",
       "7         0    -152.779569         50   СРЕДНЕЕ             1   \n",
       "8         2   -6929.865299         35    ВЫСШЕЕ             0   \n",
       "9         0   -2188.756445         41   среднее             1   \n",
       "\n",
       "      family_status  family_status_id gender income_type  debt   total_income  \\\n",
       "0   женат / замужем                 0      F   сотрудник     0  253875.639453   \n",
       "1   женат / замужем                 0      F   сотрудник     0  112080.014102   \n",
       "2   женат / замужем                 0      M   сотрудник     0  145885.952297   \n",
       "3   женат / замужем                 0      M   сотрудник     0  267628.550329   \n",
       "4  гражданский брак                 1      F   пенсионер     0  158616.077870   \n",
       "5  гражданский брак                 1      M   компаньон     0  255763.565419   \n",
       "6   женат / замужем                 0      F   компаньон     0  240525.971920   \n",
       "7   женат / замужем                 0      M   сотрудник     0  135823.934197   \n",
       "8  гражданский брак                 1      F   сотрудник     0   95856.832424   \n",
       "9   женат / замужем                 0      M   сотрудник     0  144425.938277   \n",
       "\n",
       "                      purpose  \n",
       "0               покупка жилья  \n",
       "1     приобретение автомобиля  \n",
       "2               покупка жилья  \n",
       "3  дополнительное образование  \n",
       "4             сыграть свадьбу  \n",
       "5               покупка жилья  \n",
       "6           операции с жильем  \n",
       "7                 образование  \n",
       "8       на проведение свадьбы  \n",
       "9     покупка жилья для семьи  "
      ]
     },
     "execution_count": 3,
     "metadata": {},
     "output_type": "execute_result"
    }
   ],
   "source": [
    "# получение первых 10 строк таблицы df\n",
    "df.head(10)"
   ]
  },
  {
   "cell_type": "code",
   "execution_count": 4,
   "metadata": {},
   "outputs": [
    {
     "name": "stdout",
     "output_type": "stream",
     "text": [
      "<class 'pandas.core.frame.DataFrame'>\n",
      "RangeIndex: 21525 entries, 0 to 21524\n",
      "Data columns (total 12 columns):\n",
      "children            21525 non-null int64\n",
      "days_employed       19351 non-null float64\n",
      "dob_years           21525 non-null int64\n",
      "education           21525 non-null object\n",
      "education_id        21525 non-null int64\n",
      "family_status       21525 non-null object\n",
      "family_status_id    21525 non-null int64\n",
      "gender              21525 non-null object\n",
      "income_type         21525 non-null object\n",
      "debt                21525 non-null int64\n",
      "total_income        19351 non-null float64\n",
      "purpose             21525 non-null object\n",
      "dtypes: float64(2), int64(5), object(5)\n",
      "memory usage: 2.0+ MB\n"
     ]
    }
   ],
   "source": [
    "# получение общей информации о данных в таблице df\n",
    "df.info()"
   ]
  },
  {
   "cell_type": "markdown",
   "metadata": {},
   "source": [
    "Всего в нашей таблице двенадцать столбцов. Типы данных, встречаемых в столбцах: `object`, `int` и `float`.\n",
    "\n",
    "Описание данных согласно документации:\n",
    "* `children` — количество детей в семье;\n",
    "* `days_employed` — общий трудовой стаж в днях;\n",
    "* `dob_years` — возраст клиента в годах;\n",
    "* `education` — уровень образования клиента;\n",
    "* `education_id` — идентификатор уровня образования;\n",
    "* `family_status` — семейное положение;\n",
    "* `family_status_id` — идентификатор семейного положения;\n",
    "* `gender` — пол клиента;\n",
    "* `income_type` — тип занятости;\n",
    "* `debt` — имел ли задолженность по возврату кредитов;\n",
    "* `total_income` — ежемесячный доход;\n",
    "* `purpose` — цель получения кредита.\n",
    "\n",
    "Количество значений в столбцах различается. Значит, в данных есть пропущенные значения."
   ]
  },
  {
   "cell_type": "markdown",
   "metadata": {},
   "source": [
    "**Вывод**"
   ]
  },
  {
   "cell_type": "markdown",
   "metadata": {},
   "source": [
    "В каждой строке таблицы — данные о клиенте банка. Колонки рассказывют нам о том, какой у клиента опыт работы, какое у него образование, семейный статус. \n",
    "\n",
    "Предварительно можно утверждать, что данных достаточно для проверки гипотез. В названиях колонок нет проблем со стилем, но встречаются пропуски в данных, поэтому нужно устранить проблемы в данных, чтобы двигаться дальше."
   ]
  },
  {
   "cell_type": "markdown",
   "metadata": {},
   "source": [
    "## Шаг 2. Предобработка данных"
   ]
  },
  {
   "cell_type": "markdown",
   "metadata": {},
   "source": [
    "### Обработка пропусков"
   ]
  },
  {
   "cell_type": "markdown",
   "metadata": {},
   "source": [
    "Сначала посчитаем, сколько в таблице пропущенных значений."
   ]
  },
  {
   "cell_type": "code",
   "execution_count": 5,
   "metadata": {},
   "outputs": [
    {
     "data": {
      "text/plain": [
       "children               0\n",
       "days_employed       2174\n",
       "dob_years              0\n",
       "education              0\n",
       "education_id           0\n",
       "family_status          0\n",
       "family_status_id       0\n",
       "gender                 0\n",
       "income_type            0\n",
       "debt                   0\n",
       "total_income        2174\n",
       "purpose                0\n",
       "dtype: int64"
      ]
     },
     "execution_count": 5,
     "metadata": {},
     "output_type": "execute_result"
    }
   ],
   "source": [
    "# подсчёт пропусков\n",
    "df.isna().sum()"
   ]
  },
  {
   "cell_type": "markdown",
   "metadata": {},
   "source": [
    "Не все пропущенные значения влияют на исследование. Пропуски в `days_employed` не важны для проверки наших гипотез. Достаточно заменить их явными обозначениями.\n",
    "\n",
    "Но пропуски в `total_income` могут помешать поиску зависимости между уровнем дохода и возврата кредита в срок. Попробуем понять причину их появления и устранить их."
   ]
  },
  {
   "cell_type": "code",
   "execution_count": 6,
   "metadata": {},
   "outputs": [],
   "source": [
    "#заменим пропуски в столбце `days_employed` на 0\n",
    "df['days_employed'] = df['days_employed'].fillna(0)"
   ]
  },
  {
   "cell_type": "markdown",
   "metadata": {},
   "source": [
    "Далее заменим пропуски в стобце `total_income` медианными значениями по каждому из типов занятости."
   ]
  },
  {
   "cell_type": "code",
   "execution_count": 7,
   "metadata": {},
   "outputs": [],
   "source": [
    "df['total_income'] = df.groupby('income_type')['total_income'].apply(lambda x: x.fillna(x.median()))"
   ]
  },
  {
   "cell_type": "markdown",
   "metadata": {},
   "source": [
    "Проверим, что больше нет неизвестных значений."
   ]
  },
  {
   "cell_type": "code",
   "execution_count": 8,
   "metadata": {},
   "outputs": [
    {
     "data": {
      "text/plain": [
       "children            0\n",
       "days_employed       0\n",
       "dob_years           0\n",
       "education           0\n",
       "education_id        0\n",
       "family_status       0\n",
       "family_status_id    0\n",
       "gender              0\n",
       "income_type         0\n",
       "debt                0\n",
       "total_income        0\n",
       "purpose             0\n",
       "dtype: int64"
      ]
     },
     "execution_count": 8,
     "metadata": {},
     "output_type": "execute_result"
    }
   ],
   "source": [
    "# попробуем найти строки, в которых мы заполняли пропуски\n",
    "df.isna().sum()"
   ]
  },
  {
   "cell_type": "markdown",
   "metadata": {},
   "source": [
    "**Вывод**"
   ]
  },
  {
   "cell_type": "markdown",
   "metadata": {},
   "source": [
    "Заполнили пропущенные значения, которые могли появиться из-за ошибки при сборе данных или прочих технических сбоев."
   ]
  },
  {
   "cell_type": "markdown",
   "metadata": {},
   "source": [
    "### Замена типа данных"
   ]
  },
  {
   "cell_type": "markdown",
   "metadata": {},
   "source": [
    "Заменим тип данных float в столбцах `days_employed` и `total_income`. Так как исходное значение у нас `float`, то воспользуемся для преобразования в `int` методом `astype()`, метод `to_numeric()` нам тут не подойдёт."
   ]
  },
  {
   "cell_type": "code",
   "execution_count": 9,
   "metadata": {},
   "outputs": [],
   "source": [
    "# преобразование значений столбцов в нужный тип\n",
    "df['days_employed'] = df['days_employed'].astype('int')\n",
    "df['total_income'] = df['total_income'].astype('int')"
   ]
  },
  {
   "cell_type": "markdown",
   "metadata": {},
   "source": [
    "Проверим преобразование."
   ]
  },
  {
   "cell_type": "code",
   "execution_count": 10,
   "metadata": {},
   "outputs": [
    {
     "name": "stdout",
     "output_type": "stream",
     "text": [
      "<class 'pandas.core.frame.DataFrame'>\n",
      "RangeIndex: 21525 entries, 0 to 21524\n",
      "Data columns (total 12 columns):\n",
      "children            21525 non-null int64\n",
      "days_employed       21525 non-null int64\n",
      "dob_years           21525 non-null int64\n",
      "education           21525 non-null object\n",
      "education_id        21525 non-null int64\n",
      "family_status       21525 non-null object\n",
      "family_status_id    21525 non-null int64\n",
      "gender              21525 non-null object\n",
      "income_type         21525 non-null object\n",
      "debt                21525 non-null int64\n",
      "total_income        21525 non-null int64\n",
      "purpose             21525 non-null object\n",
      "dtypes: int64(7), object(5)\n",
      "memory usage: 2.0+ MB\n"
     ]
    }
   ],
   "source": [
    "df.info()"
   ]
  },
  {
   "cell_type": "markdown",
   "metadata": {},
   "source": [
    "**Вывод**"
   ]
  },
  {
   "cell_type": "markdown",
   "metadata": {},
   "source": [
    "Как мы видим, у нас остались только столбцы типов `int` и `object`."
   ]
  },
  {
   "cell_type": "markdown",
   "metadata": {},
   "source": [
    "### Обработка дубликатов"
   ]
  },
  {
   "cell_type": "markdown",
   "metadata": {},
   "source": [
    "Посчитаем количество явных дубликатов. Сначала приведём все значения с типом `object` к единому нижнему регистру."
   ]
  },
  {
   "cell_type": "code",
   "execution_count": 11,
   "metadata": {},
   "outputs": [],
   "source": [
    "df['education'] = df['education'].str.lower()\n",
    "df['family_status'] = df['family_status'].str.lower()\n",
    "df['gender'] = df['gender'].str.lower()\n",
    "df['income_type'] = df['income_type'].str.lower()\n",
    "df['purpose'] = df['purpose'].str.lower()"
   ]
  },
  {
   "cell_type": "code",
   "execution_count": 12,
   "metadata": {},
   "outputs": [
    {
     "name": "stdout",
     "output_type": "stream",
     "text": [
      "Кол-во дубликатов: 71\n"
     ]
    }
   ],
   "source": [
    "# подсчёт явных дубликатов\n",
    "print(\"Кол-во дубликатов: {}\".format(df.duplicated().sum()))"
   ]
  },
  {
   "cell_type": "markdown",
   "metadata": {},
   "source": [
    "Удалим явные дубликаты методом `drop_duplicates()`"
   ]
  },
  {
   "cell_type": "code",
   "execution_count": 13,
   "metadata": {},
   "outputs": [],
   "source": [
    "# удаление явных дубликатов (с удалением старых индексов и формированием новых)\n",
    "df = df.drop_duplicates().reset_index(drop=True)"
   ]
  },
  {
   "cell_type": "markdown",
   "metadata": {},
   "source": [
    "Снова перерсчитаем явные дубликаты, чтобы убедиться, что мы от них избавились."
   ]
  },
  {
   "cell_type": "code",
   "execution_count": 14,
   "metadata": {},
   "outputs": [
    {
     "name": "stdout",
     "output_type": "stream",
     "text": [
      "Кол-во дубликатов: 0\n"
     ]
    }
   ],
   "source": [
    "# подсчёт явных дубликатов\n",
    "print(\"Кол-во дубликатов: {}\".format(df.duplicated().sum()))"
   ]
  },
  {
   "cell_type": "markdown",
   "metadata": {},
   "source": [
    "**Вывод**"
   ]
  },
  {
   "cell_type": "markdown",
   "metadata": {},
   "source": [
    "Обнаружили явные дубликаты и почистили от них наши данные. Явные дубликаты могли появиться из-за ошибки при сборе данных или прочих технических сбоев. Ручной поиск дубликатов не проводился, так как нет столбца, по которому можно идентифицировать неявные дубликаты."
   ]
  },
  {
   "cell_type": "markdown",
   "metadata": {},
   "source": [
    "### Лемматизация"
   ]
  },
  {
   "cell_type": "markdown",
   "metadata": {},
   "source": [
    "Проведём лемматизацию столбца с целями получения кредита. Для этого выделим значения из столбца `purpose`."
   ]
  },
  {
   "cell_type": "code",
   "execution_count": 15,
   "metadata": {
    "scrolled": true
   },
   "outputs": [
    {
     "name": "stdout",
     "output_type": "stream",
     "text": [
      "Counter({' ': 55023, 'недвижимость': 6351, 'покупка': 5897, 'жилье': 4460, 'автомобиль': 4306, 'образование': 4013, 'с': 2918, 'операция': 2604, 'свадьба': 2324, 'свой': 2230, 'на': 2222, 'строительство': 1878, 'высокий': 1374, 'получение': 1314, 'коммерческий': 1311, 'для': 1289, 'жилой': 1230, 'сделка': 941, 'дополнительный': 906, 'заниматься': 904, 'подержать': 853, 'проведение': 768, 'сыграть': 765, 'сдача': 651, 'семья': 638, 'собственный': 635, 'со': 627, 'ремонт': 607, 'приобретение': 461, 'профильный': 436, 'подержанный': 111, '\\n': 1})\n"
     ]
    }
   ],
   "source": [
    "# Лемматизируем с использованием метода `join()`\n",
    "lemmas = m.lemmatize(' '.join(df['purpose']))\n",
    "print(Counter(lemmas))"
   ]
  },
  {
   "cell_type": "markdown",
   "metadata": {},
   "source": [
    "**Вывод**"
   ]
  },
  {
   "cell_type": "markdown",
   "metadata": {},
   "source": [
    "Самые популярные слова:\n",
    "* недвижимость;\n",
    "* жилье;\n",
    "* автомобиль;\n",
    "* операция;\n",
    "* свадьба;\n",
    "* строительство."
   ]
  },
  {
   "cell_type": "markdown",
   "metadata": {},
   "source": [
    "### Категоризация данных"
   ]
  },
  {
   "cell_type": "markdown",
   "metadata": {},
   "source": [
    "Для того, чтобы нам ответить на некоторые из вопросов исследования, категоризация некоторых данных. Добавим два новых столбца, один из которых будет отражать категорию цели получения кредита, второй будет отражать диапазон ежемесячного дохода клиента. "
   ]
  },
  {
   "cell_type": "code",
   "execution_count": 16,
   "metadata": {
    "scrolled": false
   },
   "outputs": [],
   "source": [
    "# категоризация уровня дохода и добавление нового столбца\n",
    "max_income = df['total_income'].max()\n",
    "ranges = [0, 50000, 100000, 150000, 200000, 250000, 300000, max_income]\n",
    "labels_for_ranges = ['от 0 до 50000', 'от 50000 до 100000', 'от 100000 до 150000', 'от 150000 до 200000',\n",
    "          'от 200000 до 250000', 'от 250000 до 300000', 'от 300000 и более']\n",
    "df['income_category'] = pd.cut(df['total_income'], bins=ranges, labels=labels_for_ranges)"
   ]
  },
  {
   "cell_type": "markdown",
   "metadata": {},
   "source": [
    "Для категоризации цели кредита сделаем функцию, которая будет работать с лемматизированными словами из столбца, потому что так риск ошибиться меньше."
   ]
  },
  {
   "cell_type": "code",
   "execution_count": 17,
   "metadata": {},
   "outputs": [],
   "source": [
    "# функция категоризации цели кредита\n",
    "def purpose_categorize(purpose):\n",
    "    purpose = m.lemmatize(purpose)\n",
    "    if ('недвижимость' in purpose or\n",
    "    'жилье' in purpose or\n",
    "    'строительство' in purpose or\n",
    "    'коммерческий' in purpose or\n",
    "    'ремонт' in purpose):\n",
    "        return 'недвижимость'\n",
    "    elif 'автомобиль' in purpose:\n",
    "        return 'автомобиль'\n",
    "    elif 'образование' in purpose:\n",
    "        return 'образование'\n",
    "    elif 'свадьба' in purpose:\n",
    "        return 'свадьба'\n",
    "    else:\n",
    "        return 'разное'"
   ]
  },
  {
   "cell_type": "code",
   "execution_count": 18,
   "metadata": {},
   "outputs": [],
   "source": [
    "# добавим новые столбцы в нашу таблицу\n",
    "df['purpose_category'] = df['purpose'].apply(purpose_categorize)"
   ]
  },
  {
   "cell_type": "code",
   "execution_count": 19,
   "metadata": {},
   "outputs": [
    {
     "data": {
      "text/html": [
       "<div>\n",
       "<style scoped>\n",
       "    .dataframe tbody tr th:only-of-type {\n",
       "        vertical-align: middle;\n",
       "    }\n",
       "\n",
       "    .dataframe tbody tr th {\n",
       "        vertical-align: top;\n",
       "    }\n",
       "\n",
       "    .dataframe thead th {\n",
       "        text-align: right;\n",
       "    }\n",
       "</style>\n",
       "<table border=\"1\" class=\"dataframe\">\n",
       "  <thead>\n",
       "    <tr style=\"text-align: right;\">\n",
       "      <th></th>\n",
       "      <th>children</th>\n",
       "      <th>days_employed</th>\n",
       "      <th>dob_years</th>\n",
       "      <th>education</th>\n",
       "      <th>education_id</th>\n",
       "      <th>family_status</th>\n",
       "      <th>family_status_id</th>\n",
       "      <th>gender</th>\n",
       "      <th>income_type</th>\n",
       "      <th>debt</th>\n",
       "      <th>total_income</th>\n",
       "      <th>purpose</th>\n",
       "      <th>income_category</th>\n",
       "      <th>purpose_category</th>\n",
       "    </tr>\n",
       "  </thead>\n",
       "  <tbody>\n",
       "    <tr>\n",
       "      <td>0</td>\n",
       "      <td>1</td>\n",
       "      <td>-8437</td>\n",
       "      <td>42</td>\n",
       "      <td>высшее</td>\n",
       "      <td>0</td>\n",
       "      <td>женат / замужем</td>\n",
       "      <td>0</td>\n",
       "      <td>f</td>\n",
       "      <td>сотрудник</td>\n",
       "      <td>0</td>\n",
       "      <td>253875</td>\n",
       "      <td>покупка жилья</td>\n",
       "      <td>от 250000 до 300000</td>\n",
       "      <td>недвижимость</td>\n",
       "    </tr>\n",
       "    <tr>\n",
       "      <td>1</td>\n",
       "      <td>1</td>\n",
       "      <td>-4024</td>\n",
       "      <td>36</td>\n",
       "      <td>среднее</td>\n",
       "      <td>1</td>\n",
       "      <td>женат / замужем</td>\n",
       "      <td>0</td>\n",
       "      <td>f</td>\n",
       "      <td>сотрудник</td>\n",
       "      <td>0</td>\n",
       "      <td>112080</td>\n",
       "      <td>приобретение автомобиля</td>\n",
       "      <td>от 100000 до 150000</td>\n",
       "      <td>автомобиль</td>\n",
       "    </tr>\n",
       "    <tr>\n",
       "      <td>2</td>\n",
       "      <td>0</td>\n",
       "      <td>-5623</td>\n",
       "      <td>33</td>\n",
       "      <td>среднее</td>\n",
       "      <td>1</td>\n",
       "      <td>женат / замужем</td>\n",
       "      <td>0</td>\n",
       "      <td>m</td>\n",
       "      <td>сотрудник</td>\n",
       "      <td>0</td>\n",
       "      <td>145885</td>\n",
       "      <td>покупка жилья</td>\n",
       "      <td>от 100000 до 150000</td>\n",
       "      <td>недвижимость</td>\n",
       "    </tr>\n",
       "    <tr>\n",
       "      <td>3</td>\n",
       "      <td>3</td>\n",
       "      <td>-4124</td>\n",
       "      <td>32</td>\n",
       "      <td>среднее</td>\n",
       "      <td>1</td>\n",
       "      <td>женат / замужем</td>\n",
       "      <td>0</td>\n",
       "      <td>m</td>\n",
       "      <td>сотрудник</td>\n",
       "      <td>0</td>\n",
       "      <td>267628</td>\n",
       "      <td>дополнительное образование</td>\n",
       "      <td>от 250000 до 300000</td>\n",
       "      <td>образование</td>\n",
       "    </tr>\n",
       "    <tr>\n",
       "      <td>4</td>\n",
       "      <td>0</td>\n",
       "      <td>340266</td>\n",
       "      <td>53</td>\n",
       "      <td>среднее</td>\n",
       "      <td>1</td>\n",
       "      <td>гражданский брак</td>\n",
       "      <td>1</td>\n",
       "      <td>f</td>\n",
       "      <td>пенсионер</td>\n",
       "      <td>0</td>\n",
       "      <td>158616</td>\n",
       "      <td>сыграть свадьбу</td>\n",
       "      <td>от 150000 до 200000</td>\n",
       "      <td>свадьба</td>\n",
       "    </tr>\n",
       "    <tr>\n",
       "      <td>...</td>\n",
       "      <td>...</td>\n",
       "      <td>...</td>\n",
       "      <td>...</td>\n",
       "      <td>...</td>\n",
       "      <td>...</td>\n",
       "      <td>...</td>\n",
       "      <td>...</td>\n",
       "      <td>...</td>\n",
       "      <td>...</td>\n",
       "      <td>...</td>\n",
       "      <td>...</td>\n",
       "      <td>...</td>\n",
       "      <td>...</td>\n",
       "      <td>...</td>\n",
       "    </tr>\n",
       "    <tr>\n",
       "      <td>21449</td>\n",
       "      <td>1</td>\n",
       "      <td>-4529</td>\n",
       "      <td>43</td>\n",
       "      <td>среднее</td>\n",
       "      <td>1</td>\n",
       "      <td>гражданский брак</td>\n",
       "      <td>1</td>\n",
       "      <td>f</td>\n",
       "      <td>компаньон</td>\n",
       "      <td>0</td>\n",
       "      <td>224791</td>\n",
       "      <td>операции с жильем</td>\n",
       "      <td>от 200000 до 250000</td>\n",
       "      <td>недвижимость</td>\n",
       "    </tr>\n",
       "    <tr>\n",
       "      <td>21450</td>\n",
       "      <td>0</td>\n",
       "      <td>343937</td>\n",
       "      <td>67</td>\n",
       "      <td>среднее</td>\n",
       "      <td>1</td>\n",
       "      <td>женат / замужем</td>\n",
       "      <td>0</td>\n",
       "      <td>f</td>\n",
       "      <td>пенсионер</td>\n",
       "      <td>0</td>\n",
       "      <td>155999</td>\n",
       "      <td>сделка с автомобилем</td>\n",
       "      <td>от 150000 до 200000</td>\n",
       "      <td>автомобиль</td>\n",
       "    </tr>\n",
       "    <tr>\n",
       "      <td>21451</td>\n",
       "      <td>1</td>\n",
       "      <td>-2113</td>\n",
       "      <td>38</td>\n",
       "      <td>среднее</td>\n",
       "      <td>1</td>\n",
       "      <td>гражданский брак</td>\n",
       "      <td>1</td>\n",
       "      <td>m</td>\n",
       "      <td>сотрудник</td>\n",
       "      <td>1</td>\n",
       "      <td>89672</td>\n",
       "      <td>недвижимость</td>\n",
       "      <td>от 50000 до 100000</td>\n",
       "      <td>недвижимость</td>\n",
       "    </tr>\n",
       "    <tr>\n",
       "      <td>21452</td>\n",
       "      <td>3</td>\n",
       "      <td>-3112</td>\n",
       "      <td>38</td>\n",
       "      <td>среднее</td>\n",
       "      <td>1</td>\n",
       "      <td>женат / замужем</td>\n",
       "      <td>0</td>\n",
       "      <td>m</td>\n",
       "      <td>сотрудник</td>\n",
       "      <td>1</td>\n",
       "      <td>244093</td>\n",
       "      <td>на покупку своего автомобиля</td>\n",
       "      <td>от 200000 до 250000</td>\n",
       "      <td>автомобиль</td>\n",
       "    </tr>\n",
       "    <tr>\n",
       "      <td>21453</td>\n",
       "      <td>2</td>\n",
       "      <td>-1984</td>\n",
       "      <td>40</td>\n",
       "      <td>среднее</td>\n",
       "      <td>1</td>\n",
       "      <td>женат / замужем</td>\n",
       "      <td>0</td>\n",
       "      <td>f</td>\n",
       "      <td>сотрудник</td>\n",
       "      <td>0</td>\n",
       "      <td>82047</td>\n",
       "      <td>на покупку автомобиля</td>\n",
       "      <td>от 50000 до 100000</td>\n",
       "      <td>автомобиль</td>\n",
       "    </tr>\n",
       "  </tbody>\n",
       "</table>\n",
       "<p>21454 rows × 14 columns</p>\n",
       "</div>"
      ],
      "text/plain": [
       "       children  days_employed  dob_years education  education_id  \\\n",
       "0             1          -8437         42    высшее             0   \n",
       "1             1          -4024         36   среднее             1   \n",
       "2             0          -5623         33   среднее             1   \n",
       "3             3          -4124         32   среднее             1   \n",
       "4             0         340266         53   среднее             1   \n",
       "...         ...            ...        ...       ...           ...   \n",
       "21449         1          -4529         43   среднее             1   \n",
       "21450         0         343937         67   среднее             1   \n",
       "21451         1          -2113         38   среднее             1   \n",
       "21452         3          -3112         38   среднее             1   \n",
       "21453         2          -1984         40   среднее             1   \n",
       "\n",
       "          family_status  family_status_id gender income_type  debt  \\\n",
       "0       женат / замужем                 0      f   сотрудник     0   \n",
       "1       женат / замужем                 0      f   сотрудник     0   \n",
       "2       женат / замужем                 0      m   сотрудник     0   \n",
       "3       женат / замужем                 0      m   сотрудник     0   \n",
       "4      гражданский брак                 1      f   пенсионер     0   \n",
       "...                 ...               ...    ...         ...   ...   \n",
       "21449  гражданский брак                 1      f   компаньон     0   \n",
       "21450   женат / замужем                 0      f   пенсионер     0   \n",
       "21451  гражданский брак                 1      m   сотрудник     1   \n",
       "21452   женат / замужем                 0      m   сотрудник     1   \n",
       "21453   женат / замужем                 0      f   сотрудник     0   \n",
       "\n",
       "       total_income                       purpose      income_category  \\\n",
       "0            253875                 покупка жилья  от 250000 до 300000   \n",
       "1            112080       приобретение автомобиля  от 100000 до 150000   \n",
       "2            145885                 покупка жилья  от 100000 до 150000   \n",
       "3            267628    дополнительное образование  от 250000 до 300000   \n",
       "4            158616               сыграть свадьбу  от 150000 до 200000   \n",
       "...             ...                           ...                  ...   \n",
       "21449        224791             операции с жильем  от 200000 до 250000   \n",
       "21450        155999          сделка с автомобилем  от 150000 до 200000   \n",
       "21451         89672                  недвижимость   от 50000 до 100000   \n",
       "21452        244093  на покупку своего автомобиля  от 200000 до 250000   \n",
       "21453         82047         на покупку автомобиля   от 50000 до 100000   \n",
       "\n",
       "      purpose_category  \n",
       "0         недвижимость  \n",
       "1           автомобиль  \n",
       "2         недвижимость  \n",
       "3          образование  \n",
       "4              свадьба  \n",
       "...                ...  \n",
       "21449     недвижимость  \n",
       "21450       автомобиль  \n",
       "21451     недвижимость  \n",
       "21452       автомобиль  \n",
       "21453       автомобиль  \n",
       "\n",
       "[21454 rows x 14 columns]"
      ]
     },
     "metadata": {},
     "output_type": "display_data"
    }
   ],
   "source": [
    "# поглядим, что у нас получилось\n",
    "display(df)"
   ]
  },
  {
   "cell_type": "markdown",
   "metadata": {},
   "source": [
    "Для формирования выводов нам не понадобятся все колонки, поэтому оставим только необходимые."
   ]
  },
  {
   "cell_type": "code",
   "execution_count": 20,
   "metadata": {},
   "outputs": [
    {
     "data": {
      "text/html": [
       "<div>\n",
       "<style scoped>\n",
       "    .dataframe tbody tr th:only-of-type {\n",
       "        vertical-align: middle;\n",
       "    }\n",
       "\n",
       "    .dataframe tbody tr th {\n",
       "        vertical-align: top;\n",
       "    }\n",
       "\n",
       "    .dataframe thead th {\n",
       "        text-align: right;\n",
       "    }\n",
       "</style>\n",
       "<table border=\"1\" class=\"dataframe\">\n",
       "  <thead>\n",
       "    <tr style=\"text-align: right;\">\n",
       "      <th></th>\n",
       "      <th>children</th>\n",
       "      <th>family_status</th>\n",
       "      <th>debt</th>\n",
       "      <th>income_category</th>\n",
       "      <th>purpose_category</th>\n",
       "    </tr>\n",
       "  </thead>\n",
       "  <tbody>\n",
       "    <tr>\n",
       "      <td>0</td>\n",
       "      <td>1</td>\n",
       "      <td>женат / замужем</td>\n",
       "      <td>0</td>\n",
       "      <td>от 250000 до 300000</td>\n",
       "      <td>недвижимость</td>\n",
       "    </tr>\n",
       "    <tr>\n",
       "      <td>1</td>\n",
       "      <td>1</td>\n",
       "      <td>женат / замужем</td>\n",
       "      <td>0</td>\n",
       "      <td>от 100000 до 150000</td>\n",
       "      <td>автомобиль</td>\n",
       "    </tr>\n",
       "    <tr>\n",
       "      <td>2</td>\n",
       "      <td>0</td>\n",
       "      <td>женат / замужем</td>\n",
       "      <td>0</td>\n",
       "      <td>от 100000 до 150000</td>\n",
       "      <td>недвижимость</td>\n",
       "    </tr>\n",
       "    <tr>\n",
       "      <td>3</td>\n",
       "      <td>3</td>\n",
       "      <td>женат / замужем</td>\n",
       "      <td>0</td>\n",
       "      <td>от 250000 до 300000</td>\n",
       "      <td>образование</td>\n",
       "    </tr>\n",
       "    <tr>\n",
       "      <td>4</td>\n",
       "      <td>0</td>\n",
       "      <td>гражданский брак</td>\n",
       "      <td>0</td>\n",
       "      <td>от 150000 до 200000</td>\n",
       "      <td>свадьба</td>\n",
       "    </tr>\n",
       "    <tr>\n",
       "      <td>...</td>\n",
       "      <td>...</td>\n",
       "      <td>...</td>\n",
       "      <td>...</td>\n",
       "      <td>...</td>\n",
       "      <td>...</td>\n",
       "    </tr>\n",
       "    <tr>\n",
       "      <td>21449</td>\n",
       "      <td>1</td>\n",
       "      <td>гражданский брак</td>\n",
       "      <td>0</td>\n",
       "      <td>от 200000 до 250000</td>\n",
       "      <td>недвижимость</td>\n",
       "    </tr>\n",
       "    <tr>\n",
       "      <td>21450</td>\n",
       "      <td>0</td>\n",
       "      <td>женат / замужем</td>\n",
       "      <td>0</td>\n",
       "      <td>от 150000 до 200000</td>\n",
       "      <td>автомобиль</td>\n",
       "    </tr>\n",
       "    <tr>\n",
       "      <td>21451</td>\n",
       "      <td>1</td>\n",
       "      <td>гражданский брак</td>\n",
       "      <td>1</td>\n",
       "      <td>от 50000 до 100000</td>\n",
       "      <td>недвижимость</td>\n",
       "    </tr>\n",
       "    <tr>\n",
       "      <td>21452</td>\n",
       "      <td>3</td>\n",
       "      <td>женат / замужем</td>\n",
       "      <td>1</td>\n",
       "      <td>от 200000 до 250000</td>\n",
       "      <td>автомобиль</td>\n",
       "    </tr>\n",
       "    <tr>\n",
       "      <td>21453</td>\n",
       "      <td>2</td>\n",
       "      <td>женат / замужем</td>\n",
       "      <td>0</td>\n",
       "      <td>от 50000 до 100000</td>\n",
       "      <td>автомобиль</td>\n",
       "    </tr>\n",
       "  </tbody>\n",
       "</table>\n",
       "<p>21454 rows × 5 columns</p>\n",
       "</div>"
      ],
      "text/plain": [
       "       children     family_status  debt      income_category purpose_category\n",
       "0             1   женат / замужем     0  от 250000 до 300000     недвижимость\n",
       "1             1   женат / замужем     0  от 100000 до 150000       автомобиль\n",
       "2             0   женат / замужем     0  от 100000 до 150000     недвижимость\n",
       "3             3   женат / замужем     0  от 250000 до 300000      образование\n",
       "4             0  гражданский брак     0  от 150000 до 200000          свадьба\n",
       "...         ...               ...   ...                  ...              ...\n",
       "21449         1  гражданский брак     0  от 200000 до 250000     недвижимость\n",
       "21450         0   женат / замужем     0  от 150000 до 200000       автомобиль\n",
       "21451         1  гражданский брак     1   от 50000 до 100000     недвижимость\n",
       "21452         3   женат / замужем     1  от 200000 до 250000       автомобиль\n",
       "21453         2   женат / замужем     0   от 50000 до 100000       автомобиль\n",
       "\n",
       "[21454 rows x 5 columns]"
      ]
     },
     "metadata": {},
     "output_type": "display_data"
    }
   ],
   "source": [
    "# сформируем копию таблицы с нужными нам столбцами и проверим\n",
    "df_research = df[['children', 'family_status', 'debt', 'income_category', 'purpose_category']]\n",
    "display(df_research)"
   ]
  },
  {
   "cell_type": "markdown",
   "metadata": {},
   "source": [
    "**Вывод**"
   ]
  },
  {
   "cell_type": "markdown",
   "metadata": {},
   "source": [
    "Выделили интересующие нас данные для дальнейшего исследования. Были заполнены пропуски в данных, устранены дубликаты и проведена категоризация данных. Все эти шаги повысят точность нашего исследования и облегчат поиски ответов на вопросы исследования."
   ]
  },
  {
   "cell_type": "markdown",
   "metadata": {},
   "source": [
    "## Шаг 3. Ответьте на вопросы"
   ]
  },
  {
   "cell_type": "markdown",
   "metadata": {},
   "source": [
    "- Есть ли зависимость между наличием детей и возвратом кредита в срок?"
   ]
  },
  {
   "cell_type": "markdown",
   "metadata": {},
   "source": [
    "Посмотрим, сколько вообще детей указано у клиентов в нашей таблице. Для этого сгруппируем данные по столбцу `children` и посчитаем количество клиентов методом `count()`."
   ]
  },
  {
   "cell_type": "code",
   "execution_count": 21,
   "metadata": {},
   "outputs": [
    {
     "data": {
      "text/plain": [
       "children\n",
       "-1        47\n",
       " 0     14091\n",
       " 1      4808\n",
       " 2      2052\n",
       " 3       330\n",
       " 4        41\n",
       " 5         9\n",
       " 20       76\n",
       "Name: debt, dtype: int64"
      ]
     },
     "metadata": {},
     "output_type": "display_data"
    }
   ],
   "source": [
    "# группируем и считаем\n",
    "display(df_research.groupby('children')['debt'].count())"
   ]
  },
  {
   "cell_type": "markdown",
   "metadata": {},
   "source": [
    "Видим аномальные значения. `-1` ребёнка быть не может, поэтому предположим, что это неправильная запись числа `1`. `20` детей тоже маловероятно, поэтому предположим, что неправильная запись числа `2`. Исправим наши данные."
   ]
  },
  {
   "cell_type": "code",
   "execution_count": 22,
   "metadata": {
    "scrolled": true
   },
   "outputs": [
    {
     "name": "stderr",
     "output_type": "stream",
     "text": [
      "/opt/conda/lib/python3.7/site-packages/pandas/core/indexing.py:494: SettingWithCopyWarning: \n",
      "A value is trying to be set on a copy of a slice from a DataFrame.\n",
      "Try using .loc[row_indexer,col_indexer] = value instead\n",
      "\n",
      "See the caveats in the documentation: http://pandas.pydata.org/pandas-docs/stable/user_guide/indexing.html#returning-a-view-versus-a-copy\n",
      "  self.obj[item] = s\n"
     ]
    },
    {
     "data": {
      "text/plain": [
       "children\n",
       "0    14091\n",
       "1     4855\n",
       "2     2128\n",
       "3      330\n",
       "4       41\n",
       "5        9\n",
       "Name: debt, dtype: int64"
      ]
     },
     "metadata": {},
     "output_type": "display_data"
    }
   ],
   "source": [
    "# заменяем аномальные значения на скорректированные и смотрим, что получилось\n",
    "df_research.loc[:, 'children'] = df_research['children'].replace(-1, 1)\n",
    "df_research.loc[:, 'children'] = df_research['children'].replace(20, 2)\n",
    "# группируем и считаем\n",
    "display(df_research.groupby('children')['debt'].count())"
   ]
  },
  {
   "cell_type": "markdown",
   "metadata": {},
   "source": [
    "Далее посчитаем количество клиентов, которые имели задолженность по кредитам с группировкой по количеству детей. Также посмотрим на процентное соотношение внутри каждой категории."
   ]
  },
  {
   "cell_type": "code",
   "execution_count": 23,
   "metadata": {},
   "outputs": [
    {
     "data": {
      "text/html": [
       "<div>\n",
       "<style scoped>\n",
       "    .dataframe tbody tr th:only-of-type {\n",
       "        vertical-align: middle;\n",
       "    }\n",
       "\n",
       "    .dataframe tbody tr th {\n",
       "        vertical-align: top;\n",
       "    }\n",
       "\n",
       "    .dataframe thead tr th {\n",
       "        text-align: left;\n",
       "    }\n",
       "\n",
       "    .dataframe thead tr:last-of-type th {\n",
       "        text-align: right;\n",
       "    }\n",
       "</style>\n",
       "<table border=\"1\" class=\"dataframe\">\n",
       "  <thead>\n",
       "    <tr>\n",
       "      <th></th>\n",
       "      <th colspan=\"3\" halign=\"left\">debt</th>\n",
       "    </tr>\n",
       "    <tr>\n",
       "      <th></th>\n",
       "      <th>count</th>\n",
       "      <th>sum</th>\n",
       "      <th>mean</th>\n",
       "    </tr>\n",
       "    <tr>\n",
       "      <th>children</th>\n",
       "      <th></th>\n",
       "      <th></th>\n",
       "      <th></th>\n",
       "    </tr>\n",
       "  </thead>\n",
       "  <tbody>\n",
       "    <tr>\n",
       "      <td>0</td>\n",
       "      <td>14091</td>\n",
       "      <td>1063</td>\n",
       "      <td>7.54%</td>\n",
       "    </tr>\n",
       "    <tr>\n",
       "      <td>1</td>\n",
       "      <td>4855</td>\n",
       "      <td>445</td>\n",
       "      <td>9.17%</td>\n",
       "    </tr>\n",
       "    <tr>\n",
       "      <td>2</td>\n",
       "      <td>2128</td>\n",
       "      <td>202</td>\n",
       "      <td>9.49%</td>\n",
       "    </tr>\n",
       "    <tr>\n",
       "      <td>3</td>\n",
       "      <td>330</td>\n",
       "      <td>27</td>\n",
       "      <td>8.18%</td>\n",
       "    </tr>\n",
       "    <tr>\n",
       "      <td>4</td>\n",
       "      <td>41</td>\n",
       "      <td>4</td>\n",
       "      <td>9.76%</td>\n",
       "    </tr>\n",
       "    <tr>\n",
       "      <td>5</td>\n",
       "      <td>9</td>\n",
       "      <td>0</td>\n",
       "      <td>0.00%</td>\n",
       "    </tr>\n",
       "  </tbody>\n",
       "</table>\n",
       "</div>"
      ],
      "text/plain": [
       "           debt            \n",
       "          count   sum  mean\n",
       "children                   \n",
       "0         14091  1063 7.54%\n",
       "1          4855   445 9.17%\n",
       "2          2128   202 9.49%\n",
       "3           330    27 8.18%\n",
       "4            41     4 9.76%\n",
       "5             9     0 0.00%"
      ]
     },
     "execution_count": 23,
     "metadata": {},
     "output_type": "execute_result"
    }
   ],
   "source": [
    "# задаём процентное форматирование, группируем и выводим результат\n",
    "pd.set_option('display.float_format', '{:.2%}'.format)\n",
    "df_research.groupby('children')[['debt']].agg(['count', 'sum', 'mean'])"
   ]
  },
  {
   "cell_type": "markdown",
   "metadata": {},
   "source": [
    "**Вывод**"
   ]
  },
  {
   "cell_type": "markdown",
   "metadata": {},
   "source": [
    "Клиенты без детей оказались чуть дисциплинированнее. Видим, что количество детей не оказывает влияние на возврат кредита в срок. В каждой категории схожий процент просрочек. "
   ]
  },
  {
   "cell_type": "markdown",
   "metadata": {},
   "source": [
    "- Есть ли зависимость между семейным положением и возвратом кредита в срок?"
   ]
  },
  {
   "cell_type": "markdown",
   "metadata": {},
   "source": [
    "Для начала сгруппируем клиентов по семейному положению и посмотрим, какие категории у нас есть."
   ]
  },
  {
   "cell_type": "code",
   "execution_count": 24,
   "metadata": {},
   "outputs": [
    {
     "data": {
      "text/plain": [
       "family_status\n",
       "в разводе                 1195\n",
       "вдовец / вдова             959\n",
       "гражданский брак          4151\n",
       "женат / замужем          12339\n",
       "не женат / не замужем     2810\n",
       "Name: debt, dtype: int64"
      ]
     },
     "metadata": {},
     "output_type": "display_data"
    }
   ],
   "source": [
    "# группируем и считаем\n",
    "display(df_research.groupby('family_status')['debt'].count())"
   ]
  },
  {
   "cell_type": "markdown",
   "metadata": {},
   "source": [
    "Далее посчитаем количество клиентов, которые имели задолженность по кредитам с группировкой по семейному положению. Для наглядности картины также нужно рассмотреть процентное соотношение должников к общему количеству клиентов в каждой категории."
   ]
  },
  {
   "cell_type": "code",
   "execution_count": 25,
   "metadata": {
    "scrolled": true
   },
   "outputs": [
    {
     "data": {
      "text/html": [
       "<div>\n",
       "<style scoped>\n",
       "    .dataframe tbody tr th:only-of-type {\n",
       "        vertical-align: middle;\n",
       "    }\n",
       "\n",
       "    .dataframe tbody tr th {\n",
       "        vertical-align: top;\n",
       "    }\n",
       "\n",
       "    .dataframe thead tr th {\n",
       "        text-align: left;\n",
       "    }\n",
       "\n",
       "    .dataframe thead tr:last-of-type th {\n",
       "        text-align: right;\n",
       "    }\n",
       "</style>\n",
       "<table border=\"1\" class=\"dataframe\">\n",
       "  <thead>\n",
       "    <tr>\n",
       "      <th></th>\n",
       "      <th colspan=\"3\" halign=\"left\">debt</th>\n",
       "    </tr>\n",
       "    <tr>\n",
       "      <th></th>\n",
       "      <th>count</th>\n",
       "      <th>sum</th>\n",
       "      <th>mean</th>\n",
       "    </tr>\n",
       "    <tr>\n",
       "      <th>family_status</th>\n",
       "      <th></th>\n",
       "      <th></th>\n",
       "      <th></th>\n",
       "    </tr>\n",
       "  </thead>\n",
       "  <tbody>\n",
       "    <tr>\n",
       "      <td>в разводе</td>\n",
       "      <td>1195</td>\n",
       "      <td>85</td>\n",
       "      <td>7.11%</td>\n",
       "    </tr>\n",
       "    <tr>\n",
       "      <td>вдовец / вдова</td>\n",
       "      <td>959</td>\n",
       "      <td>63</td>\n",
       "      <td>6.57%</td>\n",
       "    </tr>\n",
       "    <tr>\n",
       "      <td>гражданский брак</td>\n",
       "      <td>4151</td>\n",
       "      <td>388</td>\n",
       "      <td>9.35%</td>\n",
       "    </tr>\n",
       "    <tr>\n",
       "      <td>женат / замужем</td>\n",
       "      <td>12339</td>\n",
       "      <td>931</td>\n",
       "      <td>7.55%</td>\n",
       "    </tr>\n",
       "    <tr>\n",
       "      <td>не женат / не замужем</td>\n",
       "      <td>2810</td>\n",
       "      <td>274</td>\n",
       "      <td>9.75%</td>\n",
       "    </tr>\n",
       "  </tbody>\n",
       "</table>\n",
       "</div>"
      ],
      "text/plain": [
       "                        debt           \n",
       "                       count  sum  mean\n",
       "family_status                          \n",
       "в разводе               1195   85 7.11%\n",
       "вдовец / вдова           959   63 6.57%\n",
       "гражданский брак        4151  388 9.35%\n",
       "женат / замужем        12339  931 7.55%\n",
       "не женат / не замужем   2810  274 9.75%"
      ]
     },
     "execution_count": 25,
     "metadata": {},
     "output_type": "execute_result"
    }
   ],
   "source": [
    "# группируем и выводим результат\n",
    "df_research.groupby('family_status')[['debt']].agg(['count', 'sum', 'mean'])"
   ]
  },
  {
   "cell_type": "markdown",
   "metadata": {},
   "source": [
    "**Вывод**"
   ]
  },
  {
   "cell_type": "markdown",
   "metadata": {},
   "source": [
    "Результаты показали, что вдовец / вдова реже всего допускают задолженность, а клиенты, которые не состоят в официальном браке - наименее дисциплинированные."
   ]
  },
  {
   "cell_type": "markdown",
   "metadata": {},
   "source": [
    "- Есть ли зависимость между уровнем дохода и возвратом кредита в срок?"
   ]
  },
  {
   "cell_type": "markdown",
   "metadata": {},
   "source": [
    "Сначала сгруппируем клиентов по категориям уровня доходов."
   ]
  },
  {
   "cell_type": "code",
   "execution_count": 26,
   "metadata": {},
   "outputs": [
    {
     "data": {
      "text/plain": [
       "income_category\n",
       "от 0 до 50000           372\n",
       "от 50000 до 100000     4091\n",
       "от 100000 до 150000    7160\n",
       "от 150000 до 200000    4764\n",
       "от 200000 до 250000    2254\n",
       "от 250000 до 300000    1330\n",
       "от 300000 и более      1483\n",
       "Name: debt, dtype: int64"
      ]
     },
     "metadata": {},
     "output_type": "display_data"
    }
   ],
   "source": [
    "# группируем и считаем\n",
    "display(df_research.groupby('income_category')['debt'].count())"
   ]
  },
  {
   "cell_type": "markdown",
   "metadata": {},
   "source": [
    "Далее посчитаем количество клиентов, которые имели задолженность по кредитам с группировкой по категории доходов  и рассмотрим процентное соотношение должников в каждой категории."
   ]
  },
  {
   "cell_type": "code",
   "execution_count": 27,
   "metadata": {},
   "outputs": [
    {
     "data": {
      "text/html": [
       "<div>\n",
       "<style scoped>\n",
       "    .dataframe tbody tr th:only-of-type {\n",
       "        vertical-align: middle;\n",
       "    }\n",
       "\n",
       "    .dataframe tbody tr th {\n",
       "        vertical-align: top;\n",
       "    }\n",
       "\n",
       "    .dataframe thead tr th {\n",
       "        text-align: left;\n",
       "    }\n",
       "\n",
       "    .dataframe thead tr:last-of-type th {\n",
       "        text-align: right;\n",
       "    }\n",
       "</style>\n",
       "<table border=\"1\" class=\"dataframe\">\n",
       "  <thead>\n",
       "    <tr>\n",
       "      <th></th>\n",
       "      <th colspan=\"3\" halign=\"left\">debt</th>\n",
       "    </tr>\n",
       "    <tr>\n",
       "      <th></th>\n",
       "      <th>count</th>\n",
       "      <th>sum</th>\n",
       "      <th>mean</th>\n",
       "    </tr>\n",
       "    <tr>\n",
       "      <th>income_category</th>\n",
       "      <th></th>\n",
       "      <th></th>\n",
       "      <th></th>\n",
       "    </tr>\n",
       "  </thead>\n",
       "  <tbody>\n",
       "    <tr>\n",
       "      <td>от 0 до 50000</td>\n",
       "      <td>372</td>\n",
       "      <td>23</td>\n",
       "      <td>6.18%</td>\n",
       "    </tr>\n",
       "    <tr>\n",
       "      <td>от 50000 до 100000</td>\n",
       "      <td>4091</td>\n",
       "      <td>331</td>\n",
       "      <td>8.09%</td>\n",
       "    </tr>\n",
       "    <tr>\n",
       "      <td>от 100000 до 150000</td>\n",
       "      <td>7160</td>\n",
       "      <td>624</td>\n",
       "      <td>8.72%</td>\n",
       "    </tr>\n",
       "    <tr>\n",
       "      <td>от 150000 до 200000</td>\n",
       "      <td>4764</td>\n",
       "      <td>405</td>\n",
       "      <td>8.50%</td>\n",
       "    </tr>\n",
       "    <tr>\n",
       "      <td>от 200000 до 250000</td>\n",
       "      <td>2254</td>\n",
       "      <td>164</td>\n",
       "      <td>7.28%</td>\n",
       "    </tr>\n",
       "    <tr>\n",
       "      <td>от 250000 до 300000</td>\n",
       "      <td>1330</td>\n",
       "      <td>88</td>\n",
       "      <td>6.62%</td>\n",
       "    </tr>\n",
       "    <tr>\n",
       "      <td>от 300000 и более</td>\n",
       "      <td>1483</td>\n",
       "      <td>106</td>\n",
       "      <td>7.15%</td>\n",
       "    </tr>\n",
       "  </tbody>\n",
       "</table>\n",
       "</div>"
      ],
      "text/plain": [
       "                     debt           \n",
       "                    count  sum  mean\n",
       "income_category                     \n",
       "от 0 до 50000         372   23 6.18%\n",
       "от 50000 до 100000   4091  331 8.09%\n",
       "от 100000 до 150000  7160  624 8.72%\n",
       "от 150000 до 200000  4764  405 8.50%\n",
       "от 200000 до 250000  2254  164 7.28%\n",
       "от 250000 до 300000  1330   88 6.62%\n",
       "от 300000 и более    1483  106 7.15%"
      ]
     },
     "execution_count": 27,
     "metadata": {},
     "output_type": "execute_result"
    }
   ],
   "source": [
    "# группируем и выводим результат\n",
    "df_research.groupby('income_category')[['debt']].agg(['count', 'sum', 'mean'])"
   ]
  },
  {
   "cell_type": "markdown",
   "metadata": {},
   "source": [
    "**Вывод**"
   ]
  },
  {
   "cell_type": "markdown",
   "metadata": {},
   "source": [
    "Самыми дисциплинированными клиентами оказались люди, относящиеся к категории с наименьшим доходом до 50000, а также клиенты, уровень дохода которых составляет от 250000 до 300000. Наиболее высокий процент клиентов, имевших задолженность по возврату кредита, располагается в середине диапазона доходов: от 100000 до 200000. "
   ]
  },
  {
   "cell_type": "markdown",
   "metadata": {},
   "source": [
    "- Как разные цели кредита влияют на его возврат в срок?"
   ]
  },
  {
   "cell_type": "markdown",
   "metadata": {},
   "source": [
    "Сначала сгруппируем клиентов по категориям займов."
   ]
  },
  {
   "cell_type": "code",
   "execution_count": 28,
   "metadata": {},
   "outputs": [
    {
     "data": {
      "text/plain": [
       "purpose_category\n",
       "автомобиль       4306\n",
       "недвижимость    10811\n",
       "образование      4013\n",
       "свадьба          2324\n",
       "Name: debt, dtype: int64"
      ]
     },
     "metadata": {},
     "output_type": "display_data"
    }
   ],
   "source": [
    "# группируем и считаем\n",
    "display(df_research.groupby('purpose_category')['debt'].count())"
   ]
  },
  {
   "cell_type": "markdown",
   "metadata": {},
   "source": [
    "Далее посчитаем количество клиентов, которые имели задолженность по кредитам с группировкой по категории займов и рассмотрим соотношение клиентов, имевших задолженность, по категориям."
   ]
  },
  {
   "cell_type": "code",
   "execution_count": 29,
   "metadata": {},
   "outputs": [
    {
     "data": {
      "text/html": [
       "<div>\n",
       "<style scoped>\n",
       "    .dataframe tbody tr th:only-of-type {\n",
       "        vertical-align: middle;\n",
       "    }\n",
       "\n",
       "    .dataframe tbody tr th {\n",
       "        vertical-align: top;\n",
       "    }\n",
       "\n",
       "    .dataframe thead tr th {\n",
       "        text-align: left;\n",
       "    }\n",
       "\n",
       "    .dataframe thead tr:last-of-type th {\n",
       "        text-align: right;\n",
       "    }\n",
       "</style>\n",
       "<table border=\"1\" class=\"dataframe\">\n",
       "  <thead>\n",
       "    <tr>\n",
       "      <th></th>\n",
       "      <th colspan=\"3\" halign=\"left\">debt</th>\n",
       "    </tr>\n",
       "    <tr>\n",
       "      <th></th>\n",
       "      <th>count</th>\n",
       "      <th>sum</th>\n",
       "      <th>mean</th>\n",
       "    </tr>\n",
       "    <tr>\n",
       "      <th>purpose_category</th>\n",
       "      <th></th>\n",
       "      <th></th>\n",
       "      <th></th>\n",
       "    </tr>\n",
       "  </thead>\n",
       "  <tbody>\n",
       "    <tr>\n",
       "      <td>автомобиль</td>\n",
       "      <td>4306</td>\n",
       "      <td>403</td>\n",
       "      <td>9.36%</td>\n",
       "    </tr>\n",
       "    <tr>\n",
       "      <td>недвижимость</td>\n",
       "      <td>10811</td>\n",
       "      <td>782</td>\n",
       "      <td>7.23%</td>\n",
       "    </tr>\n",
       "    <tr>\n",
       "      <td>образование</td>\n",
       "      <td>4013</td>\n",
       "      <td>370</td>\n",
       "      <td>9.22%</td>\n",
       "    </tr>\n",
       "    <tr>\n",
       "      <td>свадьба</td>\n",
       "      <td>2324</td>\n",
       "      <td>186</td>\n",
       "      <td>8.00%</td>\n",
       "    </tr>\n",
       "  </tbody>\n",
       "</table>\n",
       "</div>"
      ],
      "text/plain": [
       "                   debt           \n",
       "                  count  sum  mean\n",
       "purpose_category                  \n",
       "автомобиль         4306  403 9.36%\n",
       "недвижимость      10811  782 7.23%\n",
       "образование        4013  370 9.22%\n",
       "свадьба            2324  186 8.00%"
      ]
     },
     "execution_count": 29,
     "metadata": {},
     "output_type": "execute_result"
    }
   ],
   "source": [
    "# группируем и выводим результат\n",
    "df_research.groupby('purpose_category')[['debt']].agg(['count', 'sum', 'mean'])"
   ]
  },
  {
   "cell_type": "markdown",
   "metadata": {},
   "source": [
    "**Вывод**"
   ]
  },
  {
   "cell_type": "markdown",
   "metadata": {},
   "source": [
    "Наименьший процент клиентов с просрочками находится среди тех, кто брал кредит для покупки или ремонта недвижимости, а самый высокий располагается среди кредитов на автомобиль и образование."
   ]
  },
  {
   "cell_type": "markdown",
   "metadata": {},
   "source": [
    "## Шаг 4. Общий вывод"
   ]
  },
  {
   "cell_type": "markdown",
   "metadata": {},
   "source": [
    "Данные были предобработаны. Обнаружили и заменили пропуски в двух столбцах. Тот столбец, который не влиял на резултаты исследования, заполнили явными обозначениями, а необходимый нам столбец - медианными значениями. Привели текстовые данные к единому регистру и удалили явные дубликаты, хоть их количество было небольшим, привели числовые столбцы в необходимый тип данных. Сделали лемматизацию и категоризацию данных.\n",
    "\n",
    "Были проанализированы некоторые зависимости и сделаны выводы по их проверке:\n",
    "\n",
    "   1. Есть ли зависимость между наличием детей и возвратом кредита в срок?\n",
    "    \n",
    "Зависимости между количеством количеством детей не обнаружено, но клиенты без детей наболее дисциплинированные.\n",
    "   \n",
    "   \n",
    "   2. Есть ли зависимость между семейным положением и возвратом кредита в срок?\n",
    "   \n",
    "Самые дисциплинированные клиенты оказались среди тех, кто является вдовой / вдовцом, а наименее дисциплинированные те, кто не состоит в официальном браке.\n",
    "   \n",
    "   \n",
    "   3. Есть ли зависимость между уровнем дохода и возвратом кредита в срок?\n",
    "   \n",
    "Клиенты с наименьшим и наибольшим уровнем заработка имеют процент просрочек по кредиту меньше, чем клиенты со средним уровнем доходов.\n",
    "   \n",
    "   \n",
    "   4. Как разные цели кредита влияют на его возврат в срок?\n",
    "   \n",
    "Клиенты, бравшие займ для покупки или ремонта недвижимости, являются наиболее дисциплинированными, а те, кто брал на образование и автомобиль - наоборот."
   ]
  },
  {
   "cell_type": "markdown",
   "metadata": {},
   "source": [
    "## Чек-лист готовности проекта\n",
    "\n",
    "Поставьте 'x' в выполненных пунктах. Далее нажмите Shift+Enter."
   ]
  },
  {
   "cell_type": "markdown",
   "metadata": {},
   "source": [
    "- [x]  открыт файл;\n",
    "- [x]  файл изучен;\n",
    "- [x]  определены пропущенные значения;\n",
    "- [x]  заполнены пропущенные значения;\n",
    "- [x]  есть пояснение, какие пропущенные значения обнаружены;\n",
    "- [x]  описаны возможные причины появления пропусков в данных;\n",
    "- [x]  объяснено, по какому принципу заполнены пропуски;\n",
    "- [x]  заменен вещественный тип данных на целочисленный;\n",
    "- [x]  есть пояснение, какой метод используется для изменения типа данных и почему;\n",
    "- [x]  удалены дубликаты;\n",
    "- [x]  есть пояснение, какой метод используется для поиска и удаления дубликатов;\n",
    "- [x]  описаны возможные причины появления дубликатов в данных;\n",
    "- [x]  выделены леммы в значениях столбца с целями получения кредита;\n",
    "- [x]  описан процесс лемматизации;\n",
    "- [x]  данные категоризированы;\n",
    "- [x]  есть объяснение принципа категоризации данных;\n",
    "- [x]  есть ответ на вопрос: \"Есть ли зависимость между наличием детей и возвратом кредита в срок?\";\n",
    "- [x]  есть ответ на вопрос: \"Есть ли зависимость между семейным положением и возвратом кредита в срок?\";\n",
    "- [x]  есть ответ на вопрос: \"Есть ли зависимость между уровнем дохода и возвратом кредита в срок?\";\n",
    "- [x]  есть ответ на вопрос: \"Как разные цели кредита влияют на его возврат в срок?\";\n",
    "- [x]  в каждом этапе есть выводы;\n",
    "- [x]  есть общий вывод."
   ]
  }
 ],
 "metadata": {
  "ExecuteTimeLog": [
   {
    "duration": 323,
    "start_time": "2021-06-08T18:06:05.494Z"
   },
   {
    "duration": 776,
    "start_time": "2021-06-08T18:06:27.854Z"
   },
   {
    "duration": 3,
    "start_time": "2021-06-08T18:06:28.633Z"
   },
   {
    "duration": 327,
    "start_time": "2021-06-08T18:06:28.639Z"
   },
   {
    "duration": 37,
    "start_time": "2021-06-08T18:06:28.968Z"
   },
   {
    "duration": 18,
    "start_time": "2021-06-08T18:06:29.009Z"
   },
   {
    "duration": 18,
    "start_time": "2021-06-08T18:06:29.032Z"
   },
   {
    "duration": 16,
    "start_time": "2021-06-08T18:06:29.087Z"
   },
   {
    "duration": 22,
    "start_time": "2021-06-08T18:06:29.108Z"
   },
   {
    "duration": 79,
    "start_time": "2021-06-08T18:06:29.133Z"
   },
   {
    "duration": 8,
    "start_time": "2021-06-08T18:06:29.215Z"
   },
   {
    "duration": 9,
    "start_time": "2021-06-08T18:06:29.225Z"
   },
   {
    "duration": 86,
    "start_time": "2021-06-08T18:06:29.236Z"
   },
   {
    "duration": 86,
    "start_time": "2021-06-08T18:06:29.325Z"
   },
   {
    "duration": 17,
    "start_time": "2021-06-08T18:06:29.414Z"
   },
   {
    "duration": 1291,
    "start_time": "2021-06-08T18:06:29.433Z"
   },
   {
    "duration": 3,
    "start_time": "2021-06-08T18:08:54.138Z"
   },
   {
    "duration": 4,
    "start_time": "2021-06-08T18:08:54.997Z"
   },
   {
    "duration": 204,
    "start_time": "2021-06-08T18:08:56.255Z"
   },
   {
    "duration": 19,
    "start_time": "2021-06-08T18:08:58.336Z"
   },
   {
    "duration": 15,
    "start_time": "2021-06-08T18:09:02.405Z"
   },
   {
    "duration": 14,
    "start_time": "2021-06-08T18:09:08.874Z"
   },
   {
    "duration": 6,
    "start_time": "2021-06-08T18:09:11.432Z"
   },
   {
    "duration": 13,
    "start_time": "2021-06-08T18:09:14.115Z"
   },
   {
    "duration": 36,
    "start_time": "2021-06-08T18:09:22.601Z"
   },
   {
    "duration": 8,
    "start_time": "2021-06-08T18:09:34.405Z"
   },
   {
    "duration": 10,
    "start_time": "2021-06-08T18:09:35.951Z"
   },
   {
    "duration": 34,
    "start_time": "2021-06-08T18:09:55.311Z"
   },
   {
    "duration": 39,
    "start_time": "2021-06-08T18:10:34.268Z"
   },
   {
    "duration": 30,
    "start_time": "2021-06-08T18:10:36.317Z"
   },
   {
    "duration": 16,
    "start_time": "2021-06-08T18:10:38.489Z"
   },
   {
    "duration": 5,
    "start_time": "2021-06-08T18:10:47.021Z"
   },
   {
    "duration": 6,
    "start_time": "2021-06-08T18:16:46.640Z"
   },
   {
    "duration": 15,
    "start_time": "2021-06-08T18:17:27.305Z"
   },
   {
    "duration": 13,
    "start_time": "2021-06-08T18:18:17.029Z"
   },
   {
    "duration": 23,
    "start_time": "2021-06-08T18:19:50.642Z"
   },
   {
    "duration": 20,
    "start_time": "2021-06-08T18:20:49.601Z"
   },
   {
    "duration": 87,
    "start_time": "2021-06-08T18:20:50.650Z"
   },
   {
    "duration": 27,
    "start_time": "2021-06-08T18:21:11.212Z"
   },
   {
    "duration": 24,
    "start_time": "2021-06-08T18:22:19.523Z"
   },
   {
    "duration": 3,
    "start_time": "2021-06-08T18:33:24.656Z"
   },
   {
    "duration": 11,
    "start_time": "2021-06-08T18:36:09.013Z"
   },
   {
    "duration": 27,
    "start_time": "2021-06-08T18:38:57.903Z"
   },
   {
    "duration": 22,
    "start_time": "2021-06-08T18:39:35.313Z"
   },
   {
    "duration": 30,
    "start_time": "2021-06-08T18:39:56.788Z"
   },
   {
    "duration": 29,
    "start_time": "2021-06-08T18:40:09.168Z"
   },
   {
    "duration": 28,
    "start_time": "2021-06-08T18:40:17.437Z"
   },
   {
    "duration": 292,
    "start_time": "2021-06-08T18:41:31.356Z"
   },
   {
    "duration": 340,
    "start_time": "2021-06-08T18:42:38.063Z"
   },
   {
    "duration": 31,
    "start_time": "2021-06-08T19:06:48.479Z"
   },
   {
    "duration": 47,
    "start_time": "2021-06-08T19:07:00.959Z"
   },
   {
    "duration": 49,
    "start_time": "2021-06-08T19:07:45.107Z"
   },
   {
    "duration": 10,
    "start_time": "2021-06-08T19:08:03.248Z"
   },
   {
    "duration": 8,
    "start_time": "2021-06-08T19:08:21.666Z"
   },
   {
    "duration": 25,
    "start_time": "2021-06-08T19:08:49.034Z"
   },
   {
    "duration": 287,
    "start_time": "2021-06-08T19:09:10.523Z"
   },
   {
    "duration": 250,
    "start_time": "2021-06-08T19:10:20.370Z"
   },
   {
    "duration": 23,
    "start_time": "2021-06-08T19:12:46.634Z"
   },
   {
    "duration": 263,
    "start_time": "2021-06-08T19:12:54.289Z"
   },
   {
    "duration": 259,
    "start_time": "2021-06-08T19:13:04.141Z"
   },
   {
    "duration": 265,
    "start_time": "2021-06-08T19:14:09.659Z"
   },
   {
    "duration": 898,
    "start_time": "2021-06-08T19:14:51.203Z"
   },
   {
    "duration": 7,
    "start_time": "2021-06-08T19:15:01.203Z"
   },
   {
    "duration": 23,
    "start_time": "2021-06-08T19:15:42.041Z"
   },
   {
    "duration": 24,
    "start_time": "2021-06-08T19:16:03.324Z"
   },
   {
    "duration": 403,
    "start_time": "2021-06-08T19:16:57.326Z"
   },
   {
    "duration": 854,
    "start_time": "2021-06-08T19:17:53.793Z"
   },
   {
    "duration": 703,
    "start_time": "2021-06-08T19:19:04.359Z"
   },
   {
    "duration": 972,
    "start_time": "2021-06-08T19:19:37.100Z"
   },
   {
    "duration": 720,
    "start_time": "2021-06-08T19:20:41.063Z"
   },
   {
    "duration": 722,
    "start_time": "2021-06-08T19:25:02.860Z"
   },
   {
    "duration": 748,
    "start_time": "2021-06-08T19:25:17.204Z"
   },
   {
    "duration": 763,
    "start_time": "2021-06-08T19:25:54.156Z"
   },
   {
    "duration": 727,
    "start_time": "2021-06-08T19:25:58.489Z"
   },
   {
    "duration": 30,
    "start_time": "2021-06-08T19:26:28.074Z"
   },
   {
    "duration": 29,
    "start_time": "2021-06-08T19:26:43.313Z"
   },
   {
    "duration": 223,
    "start_time": "2021-06-08T19:29:26.317Z"
   },
   {
    "duration": 247,
    "start_time": "2021-06-08T19:31:41.700Z"
   },
   {
    "duration": 4691,
    "start_time": "2021-06-08T19:33:33.393Z"
   },
   {
    "duration": 14106,
    "start_time": "2021-06-08T19:33:43.622Z"
   },
   {
    "duration": 250,
    "start_time": "2021-06-08T19:35:35.942Z"
   },
   {
    "duration": 4850,
    "start_time": "2021-06-08T19:35:45.899Z"
   },
   {
    "duration": 4837,
    "start_time": "2021-06-08T19:36:22.818Z"
   },
   {
    "duration": 4907,
    "start_time": "2021-06-08T19:37:26.496Z"
   },
   {
    "duration": 321,
    "start_time": "2021-06-08T19:38:04.128Z"
   },
   {
    "duration": 83,
    "start_time": "2021-06-08T19:38:46.610Z"
   },
   {
    "duration": 5194,
    "start_time": "2021-06-08T19:38:56.107Z"
   },
   {
    "duration": 4997,
    "start_time": "2021-06-08T19:39:41.766Z"
   },
   {
    "duration": 355,
    "start_time": "2021-06-08T19:41:31.877Z"
   },
   {
    "duration": 4882,
    "start_time": "2021-06-08T19:42:17.824Z"
   },
   {
    "duration": 4794,
    "start_time": "2021-06-08T19:42:44.906Z"
   },
   {
    "duration": 5128,
    "start_time": "2021-06-08T19:43:16.115Z"
   },
   {
    "duration": 5262,
    "start_time": "2021-06-08T19:44:09.951Z"
   },
   {
    "duration": 4845,
    "start_time": "2021-06-08T19:44:29.124Z"
   },
   {
    "duration": 5324,
    "start_time": "2021-06-08T19:48:15.630Z"
   },
   {
    "duration": 5,
    "start_time": "2021-06-10T18:04:25.437Z"
   },
   {
    "duration": 517,
    "start_time": "2021-06-10T18:04:27.799Z"
   },
   {
    "duration": 706,
    "start_time": "2021-06-10T18:04:37.106Z"
   },
   {
    "duration": 229,
    "start_time": "2021-06-10T18:04:37.815Z"
   },
   {
    "duration": 28,
    "start_time": "2021-06-10T18:04:38.047Z"
   },
   {
    "duration": 15,
    "start_time": "2021-06-10T18:04:38.084Z"
   },
   {
    "duration": 11,
    "start_time": "2021-06-10T18:04:38.102Z"
   },
   {
    "duration": 5,
    "start_time": "2021-06-10T18:04:38.116Z"
   },
   {
    "duration": 61,
    "start_time": "2021-06-10T18:04:38.124Z"
   },
   {
    "duration": 38,
    "start_time": "2021-06-10T18:04:38.189Z"
   },
   {
    "duration": 9,
    "start_time": "2021-06-10T18:04:38.230Z"
   },
   {
    "duration": 48,
    "start_time": "2021-06-10T18:04:38.242Z"
   },
   {
    "duration": 9,
    "start_time": "2021-06-10T18:04:38.293Z"
   },
   {
    "duration": 38,
    "start_time": "2021-06-10T18:04:38.305Z"
   },
   {
    "duration": 60,
    "start_time": "2021-06-10T18:04:38.345Z"
   },
   {
    "duration": 13,
    "start_time": "2021-06-10T18:04:38.407Z"
   },
   {
    "duration": 6,
    "start_time": "2021-06-10T18:04:38.423Z"
   },
   {
    "duration": 53,
    "start_time": "2021-06-10T18:04:38.431Z"
   },
   {
    "duration": 21,
    "start_time": "2021-06-10T18:04:38.487Z"
   },
   {
    "duration": 25,
    "start_time": "2021-06-10T18:04:38.510Z"
   },
   {
    "duration": 58,
    "start_time": "2021-06-10T18:04:38.537Z"
   },
   {
    "duration": 5392,
    "start_time": "2021-06-10T18:04:38.597Z"
   },
   {
    "duration": 38,
    "start_time": "2021-06-10T18:04:52.900Z"
   },
   {
    "duration": 33,
    "start_time": "2021-06-10T18:05:11.887Z"
   },
   {
    "duration": 31,
    "start_time": "2021-06-10T18:06:22.631Z"
   },
   {
    "duration": 33,
    "start_time": "2021-06-10T18:06:29.107Z"
   },
   {
    "duration": 14,
    "start_time": "2021-06-10T18:06:32.685Z"
   },
   {
    "duration": 6,
    "start_time": "2021-06-10T18:06:40.787Z"
   },
   {
    "duration": 17,
    "start_time": "2021-06-10T18:06:41.999Z"
   },
   {
    "duration": 23,
    "start_time": "2021-06-10T18:06:44.314Z"
   },
   {
    "duration": 27,
    "start_time": "2021-06-10T18:06:44.752Z"
   },
   {
    "duration": 23,
    "start_time": "2021-06-10T18:06:45.196Z"
   },
   {
    "duration": 733,
    "start_time": "2021-06-10T18:06:59.259Z"
   },
   {
    "duration": 403,
    "start_time": "2021-06-10T18:06:59.995Z"
   },
   {
    "duration": 30,
    "start_time": "2021-06-10T18:07:00.400Z"
   },
   {
    "duration": 20,
    "start_time": "2021-06-10T18:07:00.432Z"
   },
   {
    "duration": 39,
    "start_time": "2021-06-10T18:07:00.454Z"
   },
   {
    "duration": 8,
    "start_time": "2021-06-10T18:07:00.499Z"
   },
   {
    "duration": 19,
    "start_time": "2021-06-10T18:07:00.511Z"
   },
   {
    "duration": 78,
    "start_time": "2021-06-10T18:07:00.533Z"
   },
   {
    "duration": 10,
    "start_time": "2021-06-10T18:07:00.614Z"
   },
   {
    "duration": 16,
    "start_time": "2021-06-10T18:07:00.627Z"
   },
   {
    "duration": 5,
    "start_time": "2021-06-10T18:07:00.683Z"
   },
   {
    "duration": 35,
    "start_time": "2021-06-10T18:07:00.692Z"
   },
   {
    "duration": 74,
    "start_time": "2021-06-10T18:07:00.730Z"
   },
   {
    "duration": 16,
    "start_time": "2021-06-10T18:07:00.807Z"
   },
   {
    "duration": 16,
    "start_time": "2021-06-10T18:07:00.826Z"
   },
   {
    "duration": 50,
    "start_time": "2021-06-10T18:07:00.845Z"
   },
   {
    "duration": 25,
    "start_time": "2021-06-10T18:07:00.898Z"
   },
   {
    "duration": 70,
    "start_time": "2021-06-10T18:07:00.928Z"
   },
   {
    "duration": 23,
    "start_time": "2021-06-10T18:07:01.001Z"
   },
   {
    "duration": 5514,
    "start_time": "2021-06-10T18:07:01.027Z"
   },
   {
    "duration": 5,
    "start_time": "2021-06-10T18:18:11.707Z"
   },
   {
    "duration": 85,
    "start_time": "2021-06-10T18:25:50.244Z"
   },
   {
    "duration": 113,
    "start_time": "2021-06-10T18:26:50.285Z"
   },
   {
    "duration": 7,
    "start_time": "2021-06-10T18:27:11.382Z"
   },
   {
    "duration": 1303,
    "start_time": "2021-06-10T18:30:47.110Z"
   },
   {
    "duration": 5,
    "start_time": "2021-06-10T18:32:52.765Z"
   },
   {
    "duration": 24,
    "start_time": "2021-06-10T18:32:55.685Z"
   },
   {
    "duration": 37,
    "start_time": "2021-06-10T18:33:50.344Z"
   },
   {
    "duration": 5,
    "start_time": "2021-06-10T18:34:48.509Z"
   },
   {
    "duration": 23,
    "start_time": "2021-06-10T18:34:49.584Z"
   },
   {
    "duration": 32,
    "start_time": "2021-06-10T18:34:52.962Z"
   },
   {
    "duration": 79,
    "start_time": "2021-06-10T18:39:13.279Z"
   },
   {
    "duration": 258,
    "start_time": "2021-06-10T18:42:10.256Z"
   },
   {
    "duration": 25,
    "start_time": "2021-06-10T18:42:32.996Z"
   },
   {
    "duration": 35,
    "start_time": "2021-06-10T18:42:35.897Z"
   },
   {
    "duration": 703,
    "start_time": "2021-06-10T18:42:49.992Z"
   },
   {
    "duration": 231,
    "start_time": "2021-06-10T18:42:50.697Z"
   },
   {
    "duration": 33,
    "start_time": "2021-06-10T18:42:50.932Z"
   },
   {
    "duration": 18,
    "start_time": "2021-06-10T18:42:50.984Z"
   },
   {
    "duration": 15,
    "start_time": "2021-06-10T18:42:51.005Z"
   },
   {
    "duration": 13,
    "start_time": "2021-06-10T18:42:51.023Z"
   },
   {
    "duration": 54,
    "start_time": "2021-06-10T18:42:51.038Z"
   },
   {
    "duration": 75,
    "start_time": "2021-06-10T18:42:51.098Z"
   },
   {
    "duration": 12,
    "start_time": "2021-06-10T18:42:51.185Z"
   },
   {
    "duration": 21,
    "start_time": "2021-06-10T18:42:51.200Z"
   },
   {
    "duration": 9,
    "start_time": "2021-06-10T18:42:51.224Z"
   },
   {
    "duration": 78,
    "start_time": "2021-06-10T18:42:51.236Z"
   },
   {
    "duration": 32,
    "start_time": "2021-06-10T18:42:51.317Z"
   },
   {
    "duration": 40,
    "start_time": "2021-06-10T18:42:51.352Z"
   },
   {
    "duration": 6,
    "start_time": "2021-06-10T18:42:51.395Z"
   },
   {
    "duration": 18,
    "start_time": "2021-06-10T18:42:51.404Z"
   },
   {
    "duration": 63,
    "start_time": "2021-06-10T18:42:51.424Z"
   },
   {
    "duration": 25,
    "start_time": "2021-06-10T18:42:51.489Z"
   },
   {
    "duration": 21,
    "start_time": "2021-06-10T18:42:51.517Z"
   },
   {
    "duration": 6605,
    "start_time": "2021-06-10T18:42:51.540Z"
   },
   {
    "duration": 5,
    "start_time": "2021-06-10T18:42:58.148Z"
   },
   {
    "duration": 6,
    "start_time": "2021-06-10T18:42:58.156Z"
   },
   {
    "duration": 27,
    "start_time": "2021-06-10T18:42:58.185Z"
   },
   {
    "duration": 38,
    "start_time": "2021-06-10T18:42:58.214Z"
   },
   {
    "duration": 65,
    "start_time": "2021-06-10T18:42:58.255Z"
   },
   {
    "duration": 9,
    "start_time": "2021-06-10T18:46:05.111Z"
   },
   {
    "duration": 7,
    "start_time": "2021-06-10T18:47:33.018Z"
   },
   {
    "duration": 8,
    "start_time": "2021-06-10T18:47:47.046Z"
   },
   {
    "duration": 18,
    "start_time": "2021-06-10T18:50:56.857Z"
   },
   {
    "duration": 18,
    "start_time": "2021-06-10T18:51:58.460Z"
   },
   {
    "duration": 17,
    "start_time": "2021-06-10T18:52:53.450Z"
   },
   {
    "duration": 8,
    "start_time": "2021-06-10T18:58:35.592Z"
   },
   {
    "duration": 8,
    "start_time": "2021-06-10T18:59:57.488Z"
   },
   {
    "duration": 6,
    "start_time": "2021-06-10T19:00:25.066Z"
   },
   {
    "duration": 7,
    "start_time": "2021-06-10T19:00:35.737Z"
   },
   {
    "duration": 23,
    "start_time": "2021-06-10T19:03:03.695Z"
   },
   {
    "duration": 78,
    "start_time": "2021-06-10T19:04:24.255Z"
   },
   {
    "duration": 14,
    "start_time": "2021-06-10T19:04:50.908Z"
   },
   {
    "duration": 8,
    "start_time": "2021-06-10T19:05:29.965Z"
   },
   {
    "duration": 15,
    "start_time": "2021-06-10T19:12:58.064Z"
   },
   {
    "duration": 10,
    "start_time": "2021-06-10T19:13:15.167Z"
   },
   {
    "duration": 12,
    "start_time": "2021-06-10T19:14:00.767Z"
   },
   {
    "duration": 12,
    "start_time": "2021-06-10T19:17:29.973Z"
   },
   {
    "duration": 13,
    "start_time": "2021-06-10T19:17:42.630Z"
   },
   {
    "duration": 13,
    "start_time": "2021-06-10T19:17:45.985Z"
   },
   {
    "duration": 15,
    "start_time": "2021-06-10T19:17:56.175Z"
   },
   {
    "duration": 29,
    "start_time": "2021-06-10T19:18:06.996Z"
   },
   {
    "duration": 12,
    "start_time": "2021-06-10T19:19:25.803Z"
   },
   {
    "duration": 9,
    "start_time": "2021-06-10T19:19:28.560Z"
   },
   {
    "duration": 14,
    "start_time": "2021-06-10T19:20:28.501Z"
   },
   {
    "duration": 715,
    "start_time": "2021-06-10T19:20:51.162Z"
   },
   {
    "duration": 430,
    "start_time": "2021-06-10T19:20:51.880Z"
   },
   {
    "duration": 29,
    "start_time": "2021-06-10T19:20:52.313Z"
   },
   {
    "duration": 15,
    "start_time": "2021-06-10T19:20:52.344Z"
   },
   {
    "duration": 13,
    "start_time": "2021-06-10T19:20:52.384Z"
   },
   {
    "duration": 6,
    "start_time": "2021-06-10T19:20:52.400Z"
   },
   {
    "duration": 13,
    "start_time": "2021-06-10T19:20:52.408Z"
   },
   {
    "duration": 83,
    "start_time": "2021-06-10T19:20:52.425Z"
   },
   {
    "duration": 9,
    "start_time": "2021-06-10T19:20:52.511Z"
   },
   {
    "duration": 11,
    "start_time": "2021-06-10T19:20:52.522Z"
   },
   {
    "duration": 49,
    "start_time": "2021-06-10T19:20:52.536Z"
   },
   {
    "duration": 34,
    "start_time": "2021-06-10T19:20:52.587Z"
   },
   {
    "duration": 61,
    "start_time": "2021-06-10T19:20:52.623Z"
   },
   {
    "duration": 14,
    "start_time": "2021-06-10T19:20:52.686Z"
   },
   {
    "duration": 24,
    "start_time": "2021-06-10T19:20:52.703Z"
   },
   {
    "duration": 24,
    "start_time": "2021-06-10T19:20:52.730Z"
   },
   {
    "duration": 36,
    "start_time": "2021-06-10T19:20:52.756Z"
   },
   {
    "duration": 25,
    "start_time": "2021-06-10T19:20:52.794Z"
   },
   {
    "duration": 25,
    "start_time": "2021-06-10T19:20:52.821Z"
   },
   {
    "duration": 5588,
    "start_time": "2021-06-10T19:20:52.849Z"
   },
   {
    "duration": 6,
    "start_time": "2021-06-10T19:20:58.440Z"
   },
   {
    "duration": 10,
    "start_time": "2021-06-10T19:20:58.448Z"
   },
   {
    "duration": 25,
    "start_time": "2021-06-10T19:20:58.483Z"
   },
   {
    "duration": 38,
    "start_time": "2021-06-10T19:20:58.510Z"
   },
   {
    "duration": 53,
    "start_time": "2021-06-10T19:20:58.551Z"
   },
   {
    "duration": 18,
    "start_time": "2021-06-10T19:20:58.606Z"
   },
   {
    "duration": 13,
    "start_time": "2021-06-10T19:20:58.626Z"
   },
   {
    "duration": 49,
    "start_time": "2021-06-10T19:20:58.641Z"
   },
   {
    "duration": 15,
    "start_time": "2021-06-10T19:20:58.693Z"
   },
   {
    "duration": 11,
    "start_time": "2021-06-10T19:21:26.593Z"
   },
   {
    "duration": 8,
    "start_time": "2021-06-10T19:21:30.872Z"
   },
   {
    "duration": 15,
    "start_time": "2021-06-10T19:21:47.869Z"
   },
   {
    "duration": 11,
    "start_time": "2021-06-10T19:22:11.169Z"
   },
   {
    "duration": 355,
    "start_time": "2021-06-10T19:22:51.476Z"
   },
   {
    "duration": 12,
    "start_time": "2021-06-10T19:23:08.094Z"
   },
   {
    "duration": 12,
    "start_time": "2021-06-10T19:24:58.393Z"
   },
   {
    "duration": 11,
    "start_time": "2021-06-10T19:27:07.854Z"
   },
   {
    "duration": 18,
    "start_time": "2021-06-10T19:30:11.037Z"
   },
   {
    "duration": 26,
    "start_time": "2021-06-10T19:31:37.199Z"
   },
   {
    "duration": 20,
    "start_time": "2021-06-10T19:31:40.605Z"
   },
   {
    "duration": 12,
    "start_time": "2021-06-10T19:31:41.850Z"
   },
   {
    "duration": 12,
    "start_time": "2021-06-10T19:31:42.994Z"
   },
   {
    "duration": 12,
    "start_time": "2021-06-10T19:31:44.058Z"
   },
   {
    "duration": 95,
    "start_time": "2021-06-10T19:31:46.161Z"
   },
   {
    "duration": 18,
    "start_time": "2021-06-10T19:31:52.646Z"
   },
   {
    "duration": 20,
    "start_time": "2021-06-10T19:33:32.904Z"
   },
   {
    "duration": 8,
    "start_time": "2021-06-10T19:33:37.769Z"
   },
   {
    "duration": 10,
    "start_time": "2021-06-10T19:35:45.034Z"
   },
   {
    "duration": 15,
    "start_time": "2021-06-10T19:38:07.528Z"
   },
   {
    "duration": 14,
    "start_time": "2021-06-10T19:38:25.194Z"
   },
   {
    "duration": 17,
    "start_time": "2021-06-10T19:45:36.281Z"
   },
   {
    "duration": 18,
    "start_time": "2021-06-10T19:47:29.402Z"
   },
   {
    "duration": 680,
    "start_time": "2021-06-10T19:47:56.332Z"
   },
   {
    "duration": 218,
    "start_time": "2021-06-10T19:47:57.015Z"
   },
   {
    "duration": 27,
    "start_time": "2021-06-10T19:47:57.236Z"
   },
   {
    "duration": 26,
    "start_time": "2021-06-10T19:47:57.266Z"
   },
   {
    "duration": 15,
    "start_time": "2021-06-10T19:47:57.294Z"
   },
   {
    "duration": 6,
    "start_time": "2021-06-10T19:47:57.311Z"
   },
   {
    "duration": 14,
    "start_time": "2021-06-10T19:47:57.320Z"
   },
   {
    "duration": 33,
    "start_time": "2021-06-10T19:47:57.383Z"
   },
   {
    "duration": 9,
    "start_time": "2021-06-10T19:47:57.419Z"
   },
   {
    "duration": 9,
    "start_time": "2021-06-10T19:47:57.431Z"
   },
   {
    "duration": 4,
    "start_time": "2021-06-10T19:47:57.483Z"
   },
   {
    "duration": 31,
    "start_time": "2021-06-10T19:47:57.489Z"
   },
   {
    "duration": 62,
    "start_time": "2021-06-10T19:47:57.523Z"
   },
   {
    "duration": 13,
    "start_time": "2021-06-10T19:47:57.588Z"
   },
   {
    "duration": 8,
    "start_time": "2021-06-10T19:47:57.604Z"
   },
   {
    "duration": 17,
    "start_time": "2021-06-10T19:47:57.614Z"
   },
   {
    "duration": 62,
    "start_time": "2021-06-10T19:47:57.633Z"
   },
   {
    "duration": 27,
    "start_time": "2021-06-10T19:47:57.698Z"
   },
   {
    "duration": 22,
    "start_time": "2021-06-10T19:47:57.727Z"
   },
   {
    "duration": 6922,
    "start_time": "2021-06-10T19:47:57.784Z"
   },
   {
    "duration": 5,
    "start_time": "2021-06-10T19:48:04.709Z"
   },
   {
    "duration": 11,
    "start_time": "2021-06-10T19:48:04.717Z"
   },
   {
    "duration": 56,
    "start_time": "2021-06-10T19:48:04.732Z"
   },
   {
    "duration": 33,
    "start_time": "2021-06-10T19:48:04.791Z"
   },
   {
    "duration": 25,
    "start_time": "2021-06-10T19:48:04.826Z"
   },
   {
    "duration": 46,
    "start_time": "2021-06-10T19:48:04.854Z"
   },
   {
    "duration": 22,
    "start_time": "2021-06-10T19:48:04.903Z"
   },
   {
    "duration": 9,
    "start_time": "2021-06-10T19:48:04.927Z"
   },
   {
    "duration": 24,
    "start_time": "2021-06-10T19:48:04.984Z"
   },
   {
    "duration": 21,
    "start_time": "2021-06-10T19:48:05.011Z"
   },
   {
    "duration": 11,
    "start_time": "2021-06-10T19:48:05.034Z"
   },
   {
    "duration": 14,
    "start_time": "2021-06-10T19:48:05.084Z"
   },
   {
    "duration": 16,
    "start_time": "2021-06-10T19:48:05.101Z"
   },
   {
    "duration": 17,
    "start_time": "2021-06-10T19:48:13.195Z"
   },
   {
    "duration": 704,
    "start_time": "2021-06-10T19:50:02.494Z"
   },
   {
    "duration": 278,
    "start_time": "2021-06-10T19:50:03.201Z"
   },
   {
    "duration": 28,
    "start_time": "2021-06-10T19:50:03.482Z"
   },
   {
    "duration": 23,
    "start_time": "2021-06-10T19:50:03.514Z"
   },
   {
    "duration": 13,
    "start_time": "2021-06-10T19:50:03.539Z"
   },
   {
    "duration": 6,
    "start_time": "2021-06-10T19:50:03.583Z"
   },
   {
    "duration": 16,
    "start_time": "2021-06-10T19:50:03.592Z"
   },
   {
    "duration": 77,
    "start_time": "2021-06-10T19:50:03.613Z"
   },
   {
    "duration": 10,
    "start_time": "2021-06-10T19:50:03.693Z"
   },
   {
    "duration": 11,
    "start_time": "2021-06-10T19:50:03.705Z"
   },
   {
    "duration": 8,
    "start_time": "2021-06-10T19:50:03.719Z"
   },
   {
    "duration": 76,
    "start_time": "2021-06-10T19:50:03.730Z"
   },
   {
    "duration": 31,
    "start_time": "2021-06-10T19:50:03.809Z"
   },
   {
    "duration": 43,
    "start_time": "2021-06-10T19:50:03.842Z"
   },
   {
    "duration": 7,
    "start_time": "2021-06-10T19:50:03.887Z"
   },
   {
    "duration": 20,
    "start_time": "2021-06-10T19:50:03.897Z"
   },
   {
    "duration": 18,
    "start_time": "2021-06-10T19:50:03.919Z"
   },
   {
    "duration": 64,
    "start_time": "2021-06-10T19:50:03.940Z"
   },
   {
    "duration": 21,
    "start_time": "2021-06-10T19:50:04.007Z"
   },
   {
    "duration": 5323,
    "start_time": "2021-06-10T19:50:04.031Z"
   },
   {
    "duration": 6,
    "start_time": "2021-06-10T19:50:09.357Z"
   },
   {
    "duration": 22,
    "start_time": "2021-06-10T19:50:09.365Z"
   },
   {
    "duration": 29,
    "start_time": "2021-06-10T19:50:09.392Z"
   },
   {
    "duration": 32,
    "start_time": "2021-06-10T19:50:09.423Z"
   },
   {
    "duration": 49,
    "start_time": "2021-06-10T19:50:09.458Z"
   },
   {
    "duration": 16,
    "start_time": "2021-06-10T19:50:09.509Z"
   },
   {
    "duration": 69,
    "start_time": "2021-06-10T19:50:09.527Z"
   },
   {
    "duration": 8,
    "start_time": "2021-06-10T19:50:09.598Z"
   },
   {
    "duration": 22,
    "start_time": "2021-06-10T19:50:09.608Z"
   },
   {
    "duration": 55,
    "start_time": "2021-06-10T19:50:09.632Z"
   },
   {
    "duration": 9,
    "start_time": "2021-06-10T19:50:09.689Z"
   },
   {
    "duration": 13,
    "start_time": "2021-06-10T19:50:09.701Z"
   },
   {
    "duration": 17,
    "start_time": "2021-06-10T19:50:09.716Z"
   },
   {
    "duration": 14,
    "start_time": "2021-06-10T19:52:26.142Z"
   },
   {
    "duration": 13,
    "start_time": "2021-06-10T19:54:03.870Z"
   },
   {
    "duration": 14,
    "start_time": "2021-06-10T19:54:16.167Z"
   },
   {
    "duration": 16,
    "start_time": "2021-06-10T20:00:42.365Z"
   },
   {
    "duration": 10,
    "start_time": "2021-06-10T20:02:06.278Z"
   },
   {
    "duration": 14,
    "start_time": "2021-06-10T20:04:27.367Z"
   },
   {
    "duration": 13,
    "start_time": "2021-06-10T20:04:55.955Z"
   },
   {
    "duration": 785,
    "start_time": "2021-06-10T20:30:13.371Z"
   },
   {
    "duration": 254,
    "start_time": "2021-06-10T20:30:14.159Z"
   },
   {
    "duration": 29,
    "start_time": "2021-06-10T20:30:14.416Z"
   },
   {
    "duration": 36,
    "start_time": "2021-06-10T20:30:14.448Z"
   },
   {
    "duration": 12,
    "start_time": "2021-06-10T20:30:14.487Z"
   },
   {
    "duration": 5,
    "start_time": "2021-06-10T20:30:14.502Z"
   },
   {
    "duration": 38,
    "start_time": "2021-06-10T20:30:14.510Z"
   },
   {
    "duration": 53,
    "start_time": "2021-06-10T20:30:14.552Z"
   },
   {
    "duration": 9,
    "start_time": "2021-06-10T20:30:14.608Z"
   },
   {
    "duration": 10,
    "start_time": "2021-06-10T20:30:14.620Z"
   },
   {
    "duration": 4,
    "start_time": "2021-06-10T20:30:14.633Z"
   },
   {
    "duration": 71,
    "start_time": "2021-06-10T20:30:14.640Z"
   },
   {
    "duration": 31,
    "start_time": "2021-06-10T20:30:14.713Z"
   },
   {
    "duration": 46,
    "start_time": "2021-06-10T20:30:14.747Z"
   },
   {
    "duration": 14,
    "start_time": "2021-06-10T20:30:14.797Z"
   },
   {
    "duration": 20,
    "start_time": "2021-06-10T20:30:14.813Z"
   },
   {
    "duration": 61,
    "start_time": "2021-06-10T20:30:14.836Z"
   },
   {
    "duration": 29,
    "start_time": "2021-06-10T20:30:14.900Z"
   },
   {
    "duration": 62,
    "start_time": "2021-06-10T20:30:14.932Z"
   },
   {
    "duration": 5425,
    "start_time": "2021-06-10T20:30:14.997Z"
   },
   {
    "duration": 7,
    "start_time": "2021-06-10T20:30:20.426Z"
   },
   {
    "duration": 8,
    "start_time": "2021-06-10T20:30:20.436Z"
   },
   {
    "duration": 65,
    "start_time": "2021-06-10T20:30:20.452Z"
   },
   {
    "duration": 72,
    "start_time": "2021-06-10T20:30:20.521Z"
   },
   {
    "duration": 35,
    "start_time": "2021-06-10T20:30:20.595Z"
   },
   {
    "duration": 52,
    "start_time": "2021-06-10T20:30:20.633Z"
   },
   {
    "duration": 25,
    "start_time": "2021-06-10T20:30:20.688Z"
   },
   {
    "duration": 10,
    "start_time": "2021-06-10T20:30:20.715Z"
   },
   {
    "duration": 77,
    "start_time": "2021-06-10T20:30:20.728Z"
   },
   {
    "duration": 19,
    "start_time": "2021-06-10T20:30:20.807Z"
   },
   {
    "duration": 10,
    "start_time": "2021-06-10T20:30:20.829Z"
   },
   {
    "duration": 42,
    "start_time": "2021-06-10T20:30:20.843Z"
   },
   {
    "duration": 23,
    "start_time": "2021-06-10T20:30:20.888Z"
   },
   {
    "duration": 11,
    "start_time": "2021-06-10T20:30:20.914Z"
   },
   {
    "duration": 69,
    "start_time": "2021-06-10T20:30:20.928Z"
   },
   {
    "duration": 17,
    "start_time": "2021-06-10T20:30:21.000Z"
   },
   {
    "duration": 10,
    "start_time": "2021-06-10T20:30:21.019Z"
   },
   {
    "duration": 61,
    "start_time": "2021-06-10T20:30:21.032Z"
   },
   {
    "duration": 518,
    "start_time": "2021-06-10T22:03:17.348Z"
   },
   {
    "duration": 185,
    "start_time": "2021-06-10T22:03:17.867Z"
   },
   {
    "duration": 19,
    "start_time": "2021-06-10T22:03:18.054Z"
   },
   {
    "duration": 9,
    "start_time": "2021-06-10T22:03:18.075Z"
   },
   {
    "duration": 14,
    "start_time": "2021-06-10T22:03:18.086Z"
   },
   {
    "duration": 4,
    "start_time": "2021-06-10T22:03:18.102Z"
   },
   {
    "duration": 9,
    "start_time": "2021-06-10T22:03:18.108Z"
   },
   {
    "duration": 22,
    "start_time": "2021-06-10T22:03:18.120Z"
   },
   {
    "duration": 6,
    "start_time": "2021-06-10T22:03:18.143Z"
   },
   {
    "duration": 48,
    "start_time": "2021-06-10T22:03:18.150Z"
   },
   {
    "duration": 4,
    "start_time": "2021-06-10T22:03:18.200Z"
   },
   {
    "duration": 23,
    "start_time": "2021-06-10T22:03:18.205Z"
   },
   {
    "duration": 19,
    "start_time": "2021-06-10T22:03:18.230Z"
   },
   {
    "duration": 8,
    "start_time": "2021-06-10T22:03:18.250Z"
   },
   {
    "duration": 3,
    "start_time": "2021-06-10T22:03:18.260Z"
   },
   {
    "duration": 35,
    "start_time": "2021-06-10T22:03:18.265Z"
   },
   {
    "duration": 13,
    "start_time": "2021-06-10T22:03:18.302Z"
   },
   {
    "duration": 15,
    "start_time": "2021-06-10T22:03:18.317Z"
   },
   {
    "duration": 14,
    "start_time": "2021-06-10T22:03:18.334Z"
   },
   {
    "duration": 4112,
    "start_time": "2021-06-10T22:03:18.349Z"
   },
   {
    "duration": 3,
    "start_time": "2021-06-10T22:03:22.463Z"
   },
   {
    "duration": 21,
    "start_time": "2021-06-10T22:03:22.468Z"
   },
   {
    "duration": 18,
    "start_time": "2021-06-10T22:03:22.494Z"
   },
   {
    "duration": 20,
    "start_time": "2021-06-10T22:03:22.513Z"
   },
   {
    "duration": 15,
    "start_time": "2021-06-10T22:03:22.535Z"
   },
   {
    "duration": 39,
    "start_time": "2021-06-10T22:03:22.552Z"
   },
   {
    "duration": 18,
    "start_time": "2021-06-10T22:03:22.594Z"
   },
   {
    "duration": 6,
    "start_time": "2021-06-10T22:03:22.614Z"
   },
   {
    "duration": 15,
    "start_time": "2021-06-10T22:03:22.621Z"
   },
   {
    "duration": 10,
    "start_time": "2021-06-10T22:03:22.637Z"
   },
   {
    "duration": 8,
    "start_time": "2021-06-10T22:03:22.649Z"
   },
   {
    "duration": 14,
    "start_time": "2021-06-10T22:03:22.685Z"
   },
   {
    "duration": 10,
    "start_time": "2021-06-10T22:03:22.701Z"
   },
   {
    "duration": 9,
    "start_time": "2021-06-10T22:03:22.713Z"
   },
   {
    "duration": 15,
    "start_time": "2021-06-10T22:03:22.723Z"
   },
   {
    "duration": 14,
    "start_time": "2021-06-10T22:03:22.740Z"
   },
   {
    "duration": 9,
    "start_time": "2021-06-10T22:03:22.756Z"
   },
   {
    "duration": 15,
    "start_time": "2021-06-10T22:03:22.785Z"
   },
   {
    "duration": 242,
    "start_time": "2021-06-10T23:04:14.221Z"
   },
   {
    "duration": 198,
    "start_time": "2021-06-10T23:04:27.722Z"
   },
   {
    "duration": 17,
    "start_time": "2021-06-10T23:04:39.573Z"
   },
   {
    "duration": 305,
    "start_time": "2021-06-11T09:32:17.901Z"
   },
   {
    "duration": 670,
    "start_time": "2021-06-11T09:32:23.395Z"
   },
   {
    "duration": 293,
    "start_time": "2021-06-11T09:32:27.163Z"
   },
   {
    "duration": 27,
    "start_time": "2021-06-11T09:32:29.737Z"
   },
   {
    "duration": 3327,
    "start_time": "2021-06-11T09:48:02.522Z"
   },
   {
    "duration": 780,
    "start_time": "2021-06-26T16:42:29.818Z"
   },
   {
    "duration": 175,
    "start_time": "2021-06-26T16:42:31.948Z"
   },
   {
    "duration": 28,
    "start_time": "2021-06-26T16:42:34.020Z"
   },
   {
    "duration": 14,
    "start_time": "2021-06-26T16:42:36.867Z"
   },
   {
    "duration": 12,
    "start_time": "2021-06-26T16:42:46.199Z"
   },
   {
    "duration": 22,
    "start_time": "2021-06-26T16:42:54.011Z"
   },
   {
    "duration": 28,
    "start_time": "2021-06-26T16:42:57.339Z"
   },
   {
    "duration": 18,
    "start_time": "2021-06-26T16:43:08.411Z"
   },
   {
    "duration": 8962,
    "start_time": "2021-06-26T16:44:45.433Z"
   },
   {
    "duration": 5,
    "start_time": "2021-06-26T16:45:04.995Z"
   },
   {
    "duration": 17,
    "start_time": "2021-06-26T16:45:08.602Z"
   },
   {
    "duration": 17,
    "start_time": "2021-06-26T16:48:05.480Z"
   },
   {
    "duration": 13,
    "start_time": "2021-06-26T16:48:15.725Z"
   },
   {
    "duration": 67,
    "start_time": "2021-06-26T16:55:39.778Z"
   },
   {
    "duration": 46,
    "start_time": "2021-06-26T16:55:41.674Z"
   },
   {
    "duration": 32,
    "start_time": "2021-06-26T16:55:45.253Z"
   },
   {
    "duration": 26,
    "start_time": "2021-06-26T16:55:48.302Z"
   },
   {
    "duration": 3355,
    "start_time": "2021-06-26T16:56:36.660Z"
   },
   {
    "duration": 2722,
    "start_time": "2021-06-26T16:58:08.976Z"
   },
   {
    "duration": 2127,
    "start_time": "2021-06-26T16:58:18.210Z"
   },
   {
    "duration": 2287,
    "start_time": "2021-06-26T16:59:19.065Z"
   },
   {
    "duration": 5,
    "start_time": "2021-06-26T17:22:18.421Z"
   },
   {
    "duration": 122,
    "start_time": "2021-06-26T17:29:14.458Z"
   },
   {
    "duration": 50,
    "start_time": "2021-06-26T17:29:33.434Z"
   },
   {
    "duration": 43,
    "start_time": "2021-06-26T17:30:46.380Z"
   },
   {
    "duration": 370,
    "start_time": "2021-06-26T17:31:30.185Z"
   },
   {
    "duration": 41,
    "start_time": "2021-06-26T17:31:45.006Z"
   },
   {
    "duration": 26,
    "start_time": "2021-06-26T17:32:32.474Z"
   },
   {
    "duration": 129,
    "start_time": "2021-06-26T17:33:48.492Z"
   },
   {
    "duration": 8448,
    "start_time": "2021-06-26T17:34:04.272Z"
   },
   {
    "duration": 54,
    "start_time": "2021-06-26T17:34:25.510Z"
   },
   {
    "duration": 47,
    "start_time": "2021-06-26T17:35:45.037Z"
   },
   {
    "duration": 9,
    "start_time": "2021-06-26T17:35:55.711Z"
   },
   {
    "duration": 6,
    "start_time": "2021-06-26T17:38:08.609Z"
   },
   {
    "duration": 3779,
    "start_time": "2021-06-26T17:38:12.716Z"
   },
   {
    "duration": 65,
    "start_time": "2021-06-26T17:38:18.583Z"
   },
   {
    "duration": 6,
    "start_time": "2021-06-26T17:38:49.376Z"
   },
   {
    "duration": 12135,
    "start_time": "2021-06-26T17:38:59.874Z"
   },
   {
    "duration": 6,
    "start_time": "2021-06-26T17:40:17.101Z"
   },
   {
    "duration": 12177,
    "start_time": "2021-06-26T17:40:22.672Z"
   },
   {
    "duration": 72,
    "start_time": "2021-06-26T17:40:34.852Z"
   },
   {
    "duration": 6,
    "start_time": "2021-06-26T17:42:29.486Z"
   },
   {
    "duration": 3754,
    "start_time": "2021-06-26T17:42:34.815Z"
   },
   {
    "duration": 43,
    "start_time": "2021-06-26T17:42:39.835Z"
   },
   {
    "duration": 30,
    "start_time": "2021-06-26T17:42:53.021Z"
   },
   {
    "duration": 10,
    "start_time": "2021-06-26T17:43:42.838Z"
   },
   {
    "duration": 15,
    "start_time": "2021-06-26T17:44:06.449Z"
   },
   {
    "duration": 25,
    "start_time": "2021-06-26T17:47:36.765Z"
   },
   {
    "duration": 9,
    "start_time": "2021-06-26T17:51:37.826Z"
   },
   {
    "duration": 13,
    "start_time": "2021-06-26T17:51:51.126Z"
   },
   {
    "duration": 11,
    "start_time": "2021-06-26T17:51:57.663Z"
   },
   {
    "duration": 23,
    "start_time": "2021-06-26T17:53:43.859Z"
   },
   {
    "duration": 10,
    "start_time": "2021-06-26T17:53:48.088Z"
   },
   {
    "duration": 23,
    "start_time": "2021-06-26T17:53:56.254Z"
   },
   {
    "duration": 9,
    "start_time": "2021-06-26T18:04:41.587Z"
   },
   {
    "duration": 24,
    "start_time": "2021-06-26T18:06:30.059Z"
   },
   {
    "duration": 23,
    "start_time": "2021-06-26T18:07:22.109Z"
   },
   {
    "duration": 16,
    "start_time": "2021-06-26T18:08:46.107Z"
   },
   {
    "duration": 22,
    "start_time": "2021-06-26T18:10:02.663Z"
   },
   {
    "duration": 833,
    "start_time": "2021-06-26T18:24:50.211Z"
   },
   {
    "duration": 202,
    "start_time": "2021-06-26T18:24:51.047Z"
   },
   {
    "duration": 32,
    "start_time": "2021-06-26T18:24:51.253Z"
   },
   {
    "duration": 36,
    "start_time": "2021-06-26T18:24:51.289Z"
   },
   {
    "duration": 14,
    "start_time": "2021-06-26T18:24:51.328Z"
   },
   {
    "duration": 6,
    "start_time": "2021-06-26T18:24:51.345Z"
   },
   {
    "duration": 66,
    "start_time": "2021-06-26T18:24:51.354Z"
   },
   {
    "duration": 12,
    "start_time": "2021-06-26T18:24:51.425Z"
   },
   {
    "duration": 7,
    "start_time": "2021-06-26T18:24:51.440Z"
   },
   {
    "duration": 25,
    "start_time": "2021-06-26T18:24:51.449Z"
   },
   {
    "duration": 101,
    "start_time": "2021-06-26T18:24:51.476Z"
   },
   {
    "duration": 53,
    "start_time": "2021-06-26T18:24:51.579Z"
   },
   {
    "duration": 30,
    "start_time": "2021-06-26T18:24:51.634Z"
   },
   {
    "duration": 46,
    "start_time": "2021-06-26T18:24:51.667Z"
   },
   {
    "duration": 3493,
    "start_time": "2021-06-26T18:24:51.716Z"
   },
   {
    "duration": 11,
    "start_time": "2021-06-26T18:24:55.212Z"
   },
   {
    "duration": 6,
    "start_time": "2021-06-26T18:24:55.225Z"
   },
   {
    "duration": 3706,
    "start_time": "2021-06-26T18:24:55.234Z"
   },
   {
    "duration": 43,
    "start_time": "2021-06-26T18:24:58.943Z"
   },
   {
    "duration": 46,
    "start_time": "2021-06-26T18:24:58.989Z"
   },
   {
    "duration": 8,
    "start_time": "2021-06-26T18:24:59.037Z"
   },
   {
    "duration": 15,
    "start_time": "2021-06-26T18:24:59.047Z"
   },
   {
    "duration": 64,
    "start_time": "2021-06-26T18:24:59.067Z"
   },
   {
    "duration": 9,
    "start_time": "2021-06-26T18:24:59.135Z"
   },
   {
    "duration": 22,
    "start_time": "2021-06-26T18:24:59.147Z"
   },
   {
    "duration": 10,
    "start_time": "2021-06-26T18:24:59.209Z"
   },
   {
    "duration": 22,
    "start_time": "2021-06-26T18:24:59.222Z"
   },
   {
    "duration": 9,
    "start_time": "2021-06-26T18:24:59.246Z"
   },
   {
    "duration": 64,
    "start_time": "2021-06-26T18:24:59.257Z"
   }
  ],
  "kernelspec": {
   "display_name": "Python 3",
   "language": "python",
   "name": "python3"
  },
  "language_info": {
   "codemirror_mode": {
    "name": "ipython",
    "version": 3
   },
   "file_extension": ".py",
   "mimetype": "text/x-python",
   "name": "python",
   "nbconvert_exporter": "python",
   "pygments_lexer": "ipython3",
   "version": "3.7.10"
  },
  "toc": {
   "base_numbering": 1,
   "nav_menu": {},
   "number_sections": true,
   "sideBar": true,
   "skip_h1_title": true,
   "title_cell": "Table of Contents",
   "title_sidebar": "Contents",
   "toc_cell": false,
   "toc_position": {
    "height": "calc(100% - 180px)",
    "left": "10px",
    "top": "150px",
    "width": "366.391px"
   },
   "toc_section_display": true,
   "toc_window_display": true
  }
 },
 "nbformat": 4,
 "nbformat_minor": 2
}
